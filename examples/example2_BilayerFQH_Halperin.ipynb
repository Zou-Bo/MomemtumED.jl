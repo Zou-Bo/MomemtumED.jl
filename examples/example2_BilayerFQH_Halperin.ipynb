{
 "cells": [
  {
   "cell_type": "markdown",
   "metadata": {},
   "source": [
    "This example demonstrates the calculation of bilayer fractional quantum Hall states using the Halperin (m,m',n) wavefunction.\n",
    "\n",
    "## Physical System\n",
    "- **Two-layer system**: Each layer can hold electrons with inter-layer tunneling\n",
    "- **Halperin (m,m',n) state**: Generalization of Laughlin state to bilayer systems. For (3,3,1) state, the filling factors are 1/4 for both layers.\n",
    "- **Inter-layer distance**: d\n",
    "- **Tunneling strength**: t\n",
    "- **Energy offset**: ΔE\n",
    "\n",
    "## Key Features\n",
    "- **Layer conservation**: Interaction conserves layer component of each scattering vertex (ci1=cf1, ci2=cf2)\n",
    "- **Layer-dependent interaction**: Extra e^{-ql*d_l} factor for different-layer interaction"
   ]
  },
  {
   "cell_type": "markdown",
   "metadata": {},
   "source": [
    "## System Parameters\n",
    "\n",
    "### Lattice Geometry\n",
    "- Triangular lattice with vectors G1 = (G, 0), G2 = (-G/2, sqrt(3)*G/2)\n",
    "- Landau level n=0\n",
    "- Brillouin zone area = 2π/l² = sqrt(0.75) * G²\n",
    "\n",
    "### Bilayer Parameters\n",
    "- **Nc = 2**: Number of layers (components)\n",
    "- **Inter-layer distance**: d/l\n",
    "- **Tunneling amplitude**: t / W0, if t=0, layer becomes conserved\n",
    "- **Layer conservation**: Interactions preserve layer indices\n",
    "\n",
    "### Interaction Details\n",
    "- **Same-layer interaction**: Identical to single-layer case\n",
    "- **Different-layer interaction**: Includes e^{-ql*d/l} attenuation factor\n",
    "- **Form factor**: V(q) = W0 * 1/|ql| * tanh(|qD|) "
   ]
  },
  {
   "cell_type": "code",
   "execution_count": null,
   "metadata": {},
   "outputs": [],
   "source": [
    "# Import the momentum-conserved exact diagonalization package\n",
    "using MomentumED\n",
    "\n",
    "# Number of layers (components) for bilayer system\n",
    "Nc_hopping = 2\n",
    "\n",
    "# Define k-mesh for bilayer system (2×3 mesh, Nk=6) in triangular lattice\n",
    "# Using a smaller mesh for computational efficiency\n",
    "k_list = [0 1 2 3 0 1 2 3 0 1 2 3;\n",
    "          0 0 0 0 1 1 1 1 2 2 2 2]\n",
    "Nk = 12\n",
    "Gk = (4, 3)  # Grid dimensions\n",
    "\n",
    "# Total number of electrons (3 electrons across both layers)\n",
    "Ne = 6"
   ]
  },
  {
   "cell_type": "code",
   "execution_count": null,
   "metadata": {},
   "outputs": [],
   "source": [
    "# Physical parameters\n",
    "Gl = sqrt(2π/sqrt(0.75))   # Magnetic length scale\n",
    "D_l = 5.0                  # Screening length D/l\n",
    "W0 = 1.0                   # Interaction strength\n",
    "G12_angle = 2π/3           # Angle between reciprocal lattice vectors (triangular lattice)\n",
    "d_l = 3.0                  # Inter-layer distance d/l\n",
    "t = 0.0 * W0              # Inter-layer tunneling strength\n",
    "ΔE = 0 * W0              # Energy difference between the two layers\n",
    "\n",
    "\n",
    "# Define the form factor for Coulomb interaction in Landau level\n",
    "# This includes the Landau level projection exp(-0.5 * q²l²)\n",
    "# For bilayer: add extra e^{-ql*d/l} factor for different-layer interactions\n",
    "function VFF_bilayer(q1::Float64, q2::Float64; diff_layer=false)\n",
    "    ql = sqrt(q1^2 + q2^2 + 2cos(G12_angle) * q1*q2) * Gl\n",
    "    if ql == 0.0\n",
    "        return W0 * D_l  # Regularization at q=0\n",
    "    end\n",
    "    \n",
    "    V = W0 / ql * tanh(ql * D_l) * exp(-0.5 * ql^2)\n",
    "    \n",
    "    # Apply inter-layer attenuation factor for different-layer interactions\n",
    "    if diff_layer\n",
    "        return V * exp(-ql * d_l)  # Exponential attenuation with distance d_l\n",
    "    end\n",
    "    \n",
    "    return V\n",
    "end\n",
    "\n",
    "# Sign function for reciprocal lattice vectors\n",
    "# Determines the phase structure of the magnetic translation group\n",
    "function ita(g1::Int64, g2::Int64)\n",
    "    if iseven(g1) && iseven(g2)\n",
    "        return 1\n",
    "    else\n",
    "        return -1\n",
    "    end\n",
    "end\n",
    "\n",
    "# Cross product for 2D vectors (returns scalar)\n",
    "# Used for computing geometric phases in magnetic field\n",
    "function ql_cross(q1_1, q1_2, q2_1, q2_2)\n",
    "    return q1_1 * q2_2 - q1_2 * q2_1\n",
    "end\n",
    "\n",
    "# Bilayer interaction function - same structure as single-layer but with layer-dependent VFF\n",
    "function V_int_bilayer(kf1, kf2, ki1, ki2, cf1=1, cf2=1, ci1=1, ci2=1; output=false)::ComplexF64\n",
    "    \n",
    "    # Layer conservation: interaction must conserve layer indices\n",
    "    if ci1 != cf1 || ci2 != cf2\n",
    "        return 0.0 + 0.0im\n",
    "    end\n",
    "    \n",
    "    \n",
    "    # Calculate momentum transfer (modulo reciprocal lattice)\n",
    "    q = rem.(ki1 .- kf1, 1, RoundNearest)\n",
    "    G_shift1 = round.(Int64, ki1 .- kf1 .- q, RoundNearest)\n",
    "    G_shift2 = round.(Int64, kf2 .- ki2 .- q, RoundNearest)\n",
    "\n",
    "\n",
    "    V_total = ComplexF64(0.0)\n",
    "    # Sum over reciprocal lattice vectors for convergence\n",
    "    Nshell = 2\n",
    "    for g1 in -Nshell:Nshell, g2 in -Nshell:Nshell\n",
    "        if abs(g1-g2) > Nshell\n",
    "            continue\n",
    "        end\n",
    "\n",
    "        # Construct the full momentum transfer including reciprocal lattice\n",
    "        qq1 = q[1] + g1\n",
    "        qq2 = q[2] + g2\n",
    "\n",
    "        # Calculate phase factors from magnetic translation algebra\n",
    "        # These phases ensure proper commutation relations and gauge invariance\n",
    "        phase_angle = 0.5ql_cross(ki1[1], ki1[2], kf1[1], kf1[2])\n",
    "        phase_angle += 0.5ql_cross(ki1[1]+kf1[1], ki1[2]+kf1[2], qq1, qq2)\n",
    "        phase_angle += 0.5ql_cross(ki2[1], ki2[2], kf2[1], kf2[2])\n",
    "        phase_angle += 0.5ql_cross(ki2[1]+kf2[1], ki2[2]+kf2[2], -qq1, -qq2)\n",
    "\n",
    "        phase = cispi(2.0phase_angle)\n",
    "        sign = ita(g1+G_shift1[1], g2+G_shift1[2]) * ita(g1+G_shift2[1], g2+G_shift2[2])\n",
    "\n",
    "        # Use layer-dependent form factor\n",
    "        vff = VFF_bilayer(qq1, qq2; diff_layer=(ci1 != ci2))\n",
    "        V_total += sign * phase * vff\n",
    "    end\n",
    "\n",
    "    return V_total\n",
    "end\n",
    "\n",
    "# Set up one-body Hamiltonian matrix for inter-layer tunneling\n",
    "# H_onebody[c1, c2, cc, k] : hopping from component c2 to c1 at momentum k\n",
    "# For bilayer system: Nc_hopping=2, Nc_conserve=1, Nk=6\n",
    "H_onebody_bilayer = zeros(ComplexF64, Nc_hopping, Nc_hopping, 1, Nk)\n",
    "\n",
    "# Add tunneling terms: t = 0.5 * W0 between different layers\n",
    "# Tunneling conserves momentum (diagonal in k-space)\n",
    "for k_idx in 1:Nk\n",
    "    # Hopping from layer 2 to layer 1\n",
    "    H_onebody_bilayer[1, 2, 1, k_idx] = t\n",
    "    # Hopping from layer 1 to layer 2  \n",
    "    H_onebody_bilayer[2, 1, 1, k_idx] = t\n",
    "    H_onebody_bilayer[1, 1, 1, k_idx] = 0.5ΔE\n",
    "    H_onebody_bilayer[2, 2, 1, k_idx] = -0.5ΔE\n",
    "end\n",
    "\n",
    "# Create parameter structure for bilayer system\n",
    "# Note: H_onebody matrix handles tunneling, V_int handles interactions\n",
    "para_bilayer = EDPara(\n",
    "    k_list=k_list, \n",
    "    Gk=Gk, \n",
    "    Nc_hopping=Nc_hopping,\n",
    "    Nc_conserve=1,\n",
    "    H_onebody=H_onebody_bilayer,\n",
    "    V_int=V_int_bilayer\n",
    ");"
   ]
  },
  {
   "cell_type": "code",
   "execution_count": null,
   "metadata": {},
   "outputs": [],
   "source": [
    "# Create momentum blocks for bilayer system\n",
    "blocks, block_k1, block_k2, k0number = \n",
    "    ED_momentum_block_division(para_bilayer, ED_mbslist(para_bilayer, (Ne,)));\n",
    "length.(blocks)"
   ]
  },
  {
   "cell_type": "code",
   "execution_count": null,
   "metadata": {},
   "outputs": [],
   "source": [
    "# Generate scattering lists for efficient Hamiltonian construction\n",
    "scat_list1 = ED_sortedScatteringList_onebody(para_bilayer);\n",
    "scat_list2 = ED_sortedScatteringList_twobody(para_bilayer);"
   ]
  },
  {
   "cell_type": "code",
   "execution_count": null,
   "metadata": {},
   "outputs": [],
   "source": [
    "energies = Vector{Vector{Float64}}(undef, length(blocks))\n",
    "Neigen = 6\n",
    "for i in eachindex(blocks)\n",
    "    println(\"Processing block #$i with size $(length(blocks[i])), momentum $(block_k1[i]), $(block_k2[i])\")\n",
    "    energies[i] = EDsolve(blocks[i], scat_list1, scat_list2, Neigen; showtime=true, converge_warning = false)[1]\n",
    "end"
   ]
  },
  {
   "cell_type": "code",
   "execution_count": null,
   "metadata": {},
   "outputs": [],
   "source": [
    "# The package for plotting is not included in this package. Use the following to add it:\n",
    "# using Pkg; Pkg.add(\"CairoMakie\")"
   ]
  },
  {
   "cell_type": "code",
   "execution_count": null,
   "metadata": {},
   "outputs": [],
   "source": [
    "# Plot energy spectrum\n",
    "using CairoMakie\n",
    "CairoMakie.activate!()\n",
    "\n",
    "begin\n",
    "    fig = Figure();\n",
    "    ax = Axis(fig[1, 1])    \n",
    "    # Plot energy levels for each momentum block\n",
    "    for i in 1:length(blocks)\n",
    "        for e in energies[i]\n",
    "            scatter!(ax, Gk[2]*block_k1[i]+block_k2[i], e, color = :blue, marker=:hline)\n",
    "        end\n",
    "    end\n",
    "    fig\n",
    "end\n",
    "display(fig)"
   ]
  },
  {
   "cell_type": "code",
   "execution_count": 8,
   "metadata": {},
   "outputs": [
    {
     "data": {
      "text/plain": [
       "6-element Vector{Float64}:\n",
       " 4.767925049245063\n",
       " 4.767925049245064\n",
       " 4.830820342284234\n",
       " 4.830820342284238\n",
       " 4.843752888025073\n",
       " 4.8437528880250795"
      ]
     },
     "metadata": {},
     "output_type": "display_data"
    }
   ],
   "source": [
    "# check energies explicitly to see if there's degeneracy in the same momentum sector.\n",
    "energies[4]"
   ]
  },
  {
   "cell_type": "markdown",
   "metadata": {},
   "source": [
    "In the specific case when interlayer tunneling t=0, particle numbers of the two layers are conserved.\n",
    "\n",
    "Therefore, we can do larger system."
   ]
  },
  {
   "cell_type": "code",
   "execution_count": null,
   "metadata": {},
   "outputs": [],
   "source": [
    "# Import the momentum-conserved exact diagonalization package\n",
    "using MomentumED\n",
    "\n",
    "# Number of layers (components) for bilayer system\n",
    "Nc_conserve = 2\n",
    "\n",
    "# Define k-mesh for bilayer system (2×3 mesh, Nk=6) in triangular lattice\n",
    "# Using a smaller mesh for computational efficiency\n",
    "k_list = [0 1 2 3 0 1 2 3 0 1 2 3 0 1 2 3;\n",
    "          0 0 0 0 1 1 1 1 2 2 2 2 3 3 3 3]\n",
    "Nk = 16\n",
    "Gk = (4, 4)  # Grid dimensions\n",
    "\n",
    "# Total number of electrons (3 electrons across both layers)\n",
    "Ne1 = 4\n",
    "Ne2 = 4"
   ]
  },
  {
   "cell_type": "code",
   "execution_count": null,
   "metadata": {},
   "outputs": [],
   "source": [
    "# Physical parameters\n",
    "t = 0.0                    # must be zero for layer-conserved case\n",
    "ΔE = 0 * W0                # Energy difference between the two layers\n",
    "\n",
    "\n",
    "# Set up one-body Hamiltonian matrix for inter-layer tunneling\n",
    "# H_onebody[c1, c2, cc, k] : no hopping from component c2 to c1\n",
    "# For bilayer system: Nc_hopping=1, Nc_conserve=2, Nk=6\n",
    "H_onebody_bilayer = zeros(ComplexF64, 1, 1, Nc_conserve, Nk)\n",
    "# Add energy difference terms: ΔE = 0.5 * W0 between different layers\n",
    "# No tunneling\n",
    "for k_idx in 1:Nk\n",
    "    H_onebody_bilayer[1, 1, 1, k_idx] = 0.5ΔE\n",
    "    H_onebody_bilayer[1, 1, 2, k_idx] = -0.5ΔE\n",
    "end\n",
    "\n",
    "# Create parameter structure for bilayer system\n",
    "# Note: H_onebody matrix handles tunneling, V_int handles interactions\n",
    "para_bilayer = EDPara(\n",
    "    k_list=k_list, \n",
    "    Gk=Gk, \n",
    "    Nc_hopping=1,\n",
    "    Nc_conserve=Nc_conserve,\n",
    "    H_onebody=H_onebody_bilayer,\n",
    "    V_int=V_int_bilayer\n",
    ");"
   ]
  },
  {
   "cell_type": "code",
   "execution_count": null,
   "metadata": {},
   "outputs": [],
   "source": [
    "# Create momentum blocks for bilayer system\n",
    "blocks, block_k1, block_k2, k0number = \n",
    "    ED_momentum_block_division(para_bilayer, ED_mbslist(para_bilayer, (Ne1,Ne2)));\n",
    "length.(blocks)"
   ]
  },
  {
   "cell_type": "code",
   "execution_count": null,
   "metadata": {},
   "outputs": [],
   "source": [
    "# Generate scattering lists for efficient Hamiltonian construction\n",
    "scat_list1 = ED_sortedScatteringList_onebody(para_bilayer);\n",
    "scat_list2 = ED_sortedScatteringList_twobody(para_bilayer);"
   ]
  },
  {
   "cell_type": "code",
   "execution_count": null,
   "metadata": {},
   "outputs": [
    {
     "name": "stdout",
     "output_type": "stream",
     "text": [
      "Processing block #1 with size 207184, momentum 0, 0\n",
      " 25.401103 seconds (1.48 G allocations: 27.103 GiB, 16.87% gc time, 5.16% compilation time)\n",
      " 86.661962 seconds (120.95 k allocations: 9.353 GiB, 2.23% gc time, 0.08% compilation time: 73% of which was recompilation)\n",
      "Processing block #2 with size 206976, momentum 0, 1\n"
     ]
    },
    {
     "name": "stderr",
     "output_type": "stream",
     "text": [
      "┌ Warning: Lanczos eigsolve stopped without convergence after 100 iterations:\n",
      "│ * 8 eigenvalues converged\n",
      "│ * norm of residuals = (3.35e-25, 0.00e+00, 0.00e+00, 0.00e+00, 0.00e+00, 0.00e+00, 0.00e+00, 0.00e+00, 1.71e-09, 1.02e-08, 3.72e-08, 2.35e-08)\n",
      "│ * number of operations = 1182\n",
      "└ @ KrylovKit C:\\Users\\zoubo\\.julia\\packages\\KrylovKit\\iz9bA\\src\\eigsolve\\lanczos.jl:138\n"
     ]
    },
    {
     "name": "stdout",
     "output_type": "stream",
     "text": [
      " 28.901823 seconds (1.48 G allocations: 27.066 GiB, 18.21% gc time)\n",
      " 78.559922 seconds (21.23 k allocations: 8.209 GiB, 2.32% gc time)\n",
      "Processing block #3 with size 207168, momentum 0, 2\n",
      " 28.799553 seconds (1.48 G allocations: 27.093 GiB, 17.67% gc time)\n",
      " 84.396502 seconds (21.84 k allocations: 8.489 GiB, 2.32% gc time)\n",
      "Processing block #4 with size 206976, momentum 0, 3\n",
      " 29.059163 seconds (1.48 G allocations: 27.066 GiB, 19.47% gc time)\n",
      " 75.059982 seconds (21.39 k allocations: 8.160 GiB, 2.47% gc time)\n",
      "Processing block #5 with size 206976, momentum 1, 0\n",
      " 27.448053 seconds (1.48 G allocations: 27.066 GiB, 18.03% gc time)\n",
      " 73.536148 seconds (20.59 k allocations: 8.006 GiB, 2.35% gc time)\n",
      "Processing block #6 with size 206976, momentum 1, 1\n",
      " 26.076573 seconds (1.48 G allocations: 27.066 GiB, 19.23% gc time)\n",
      " 72.481436 seconds (21.11 k allocations: 8.067 GiB, 2.39% gc time)\n",
      "Processing block #7 with size 206976, momentum 1, 2\n",
      " 27.436795 seconds (1.48 G allocations: 27.066 GiB, 18.90% gc time)\n",
      " 61.811390 seconds (18.39 k allocations: 7.105 GiB, 2.41% gc time)\n",
      "Processing block #8 with size 206976, momentum 1, 3\n",
      " 24.734735 seconds (1.48 G allocations: 27.066 GiB, 18.16% gc time)\n",
      " 60.833658 seconds (17.43 k allocations: 6.735 GiB, 2.30% gc time)\n",
      "Processing block #9 with size 207168, momentum 2, 0\n",
      " 25.685923 seconds (1.48 G allocations: 27.093 GiB, 18.14% gc time)\n",
      " 81.598838 seconds (24.05 k allocations: 9.310 GiB, 2.42% gc time)\n",
      "Processing block #10 with size 206976, momentum 2, 1\n"
     ]
    },
    {
     "name": "stderr",
     "output_type": "stream",
     "text": [
      "┌ Warning: Lanczos eigsolve stopped without convergence after 100 iterations:\n",
      "│ * 4 eigenvalues converged\n",
      "│ * norm of residuals = (2.46e-19, 4.47e-19, 5.21e-19, 1.26e-19, 1.81e-12, 1.58e-11)\n",
      "│ * number of operations = 1201\n",
      "└ @ KrylovKit C:\\Users\\zoubo\\.julia\\packages\\KrylovKit\\iz9bA\\src\\eigsolve\\lanczos.jl:138\n"
     ]
    },
    {
     "name": "stdout",
     "output_type": "stream",
     "text": [
      " 25.161865 seconds (1.48 G allocations: 27.066 GiB, 17.98% gc time)\n",
      " 60.968049 seconds (18.38 k allocations: 7.105 GiB, 2.44% gc time)\n",
      "Processing block #11 with size 207168, momentum 2, 2\n",
      " 24.702136 seconds (1.48 G allocations: 27.093 GiB, 18.36% gc time)\n",
      " 70.507057 seconds (21.00 k allocations: 8.198 GiB, 2.52% gc time)\n",
      "Processing block #12 with size 206976, momentum 2, 3\n",
      " 26.498147 seconds (1.48 G allocations: 27.066 GiB, 19.10% gc time)\n"
     ]
    }
   ],
   "source": [
    "# Time cost is significantly higher with this larger system size\n",
    "energies = Vector{Vector{Float64}}(undef, length(blocks))\n",
    "Neigen = 6\n",
    "for i in eachindex(blocks)\n",
    "    println(\"Processing block #$i with size $(length(blocks[i])), momentum $(block_k1[i]), $(block_k2[i])\")\n",
    "    if i == k0number\n",
    "        energies[i] = EDsolve(blocks[i], scat_list1, scat_list2, 2Neigen; showtime=true, converge_warning = false)[1]\n",
    "    else\n",
    "        energies[i] = EDsolve(blocks[i], scat_list1, scat_list2, Neigen; showtime=true, converge_warning = false)[1]\n",
    "    end\n",
    "end"
   ]
  },
  {
   "cell_type": "code",
   "execution_count": 75,
   "metadata": {},
   "outputs": [],
   "source": [
    "# The package for plotting is not included in this package. Use the following to add it:\n",
    "# using Pkg; Pkg.add(\"CairoMakie\")"
   ]
  },
  {
   "cell_type": "code",
   "execution_count": 76,
   "metadata": {},
   "outputs": [
    {
     "data": {
      "image/png": "[encoded data removed]",
      "text/html": [
       "<img width=600 height=450 style='object-fit: contain; height: auto;' src=\"data:image/png;base64, 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\"/>"
      ]
     },
     "metadata": {},
     "output_type": "display_data"
    },
    {
     "data": {
      "text/plain": [
       "CairoMakie.Screen{IMAGE}\n"
      ]
     },
     "metadata": {},
     "output_type": "display_data"
    }
   ],
   "source": [
    "# Plot energy spectrum\n",
    "using CairoMakie\n",
    "CairoMakie.activate!()\n",
    "\n",
    "begin\n",
    "    fig = Figure();\n",
    "    ax = Axis(fig[1, 1])    \n",
    "    # Plot energy levels for each momentum block\n",
    "    for i in 1:length(blocks)\n",
    "        for e in energies[i]\n",
    "            scatter!(ax, Gk[2]*block_k1[i]+block_k2[i], e, color = :blue, marker=:hline)\n",
    "        end\n",
    "    end\n",
    "    fig\n",
    "end\n",
    "display(fig)"
   ]
  },
  {
   "cell_type": "code",
   "execution_count": 78,
   "metadata": {},
   "outputs": [
    {
     "data": {
      "text/plain": [
       "6-element Vector{Float64}:\n",
       " 0.0834826314776215\n",
       " 0.08348266506642925\n",
       " 0.08348266640383772\n",
       " 0.0834826986733487\n",
       " 0.08411288032408262\n",
       " 0.08411288054247594"
      ]
     },
     "metadata": {},
     "output_type": "display_data"
    }
   ],
   "source": [
    "# check energies explicitly to see if there's degeneracy in the same momentum sector.\n",
    "energies[2]"
   ]
  },
  {
   "cell_type": "code",
   "execution_count": null,
   "metadata": {},
   "outputs": [],
   "source": []
  }
 ],
 "metadata": {
  "kernelspec": {
   "display_name": "Julia 1.11.6",
   "language": "julia",
   "name": "julia-1.11"
  },
  "language_info": {
   "file_extension": ".jl",
   "mimetype": "application/julia",
   "name": "julia",
   "version": "1.11.6"
  }
 },
 "nbformat": 4,
 "nbformat_minor": 4
}
