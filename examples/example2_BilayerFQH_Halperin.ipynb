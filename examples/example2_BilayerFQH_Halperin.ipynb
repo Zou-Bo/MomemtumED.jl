{
 "cells": [
  {
   "cell_type": "markdown",
   "metadata": {},
   "source": [
    "This example demonstrates the calculation of bilayer fractional quantum Hall states using the Halperin (m,m',n) wavefunction.\n",
    "\n",
    "## Physical System\n",
    "- **Two-layer system**: Each layer can hold electrons with inter-layer tunneling\n",
    "- **Halperin (m,m',n) state**: Generalization of Laughlin state to bilayer systems. For (3,3,1) state, the filling factors are 1/4 for both layers.\n",
    "- **Inter-layer distance**: d\n",
    "- **Tunneling strength**: t\n",
    "- **Energy offset**: ΔE\n",
    "\n",
    "## Key Features\n",
    "- **Layer conservation**: Interaction conserves layer component of each scattering vertex (ci1=cf1, ci2=cf2)\n",
    "- **Layer-dependent interaction**: Extra e^{-ql*d_l} factor for different-layer interaction"
   ]
  },
  {
   "cell_type": "markdown",
   "metadata": {},
   "source": [
    "## System Parameters\n",
    "\n",
    "### Lattice Geometry\n",
    "- Triangular lattice with vectors G1 = (G, 0), G2 = (-G/2, sqrt(3)*G/2)\n",
    "- Landau level n=0\n",
    "- Brillouin zone area = 2π/l² = sqrt(0.75) * G²\n",
    "\n",
    "### Bilayer Parameters\n",
    "- **Nc = 2**: Number of layers (components)\n",
    "- **Inter-layer distance**: d/l\n",
    "- **Tunneling amplitude**: t / W0, if t=0, layer becomes conserved\n",
    "- **Layer conservation**: Interactions preserve layer indices\n",
    "\n",
    "### Interaction Details\n",
    "- **Same-layer interaction**: Identical to single-layer case\n",
    "- **Different-layer interaction**: Includes e^{-ql*d/l} attenuation factor\n",
    "- **Form factor**: V(q) = W0 * 1/|ql| * tanh(|qD|) "
   ]
  },
  {
   "cell_type": "code",
   "execution_count": 1,
   "metadata": {},
   "outputs": [
    {
     "data": {
      "text/plain": [
       "6"
      ]
     },
     "metadata": {},
     "output_type": "display_data"
    }
   ],
   "source": [
    "# Import the momentum-conserved exact diagonalization package\n",
    "using MomentumED\n",
    "\n",
    "# Number of layers (components) for bilayer system\n",
    "Nc_hopping = 2\n",
    "\n",
    "# Define k-mesh for bilayer system (2×3 mesh, Nk=6) in triangular lattice\n",
    "# Using a smaller mesh for computational efficiency\n",
    "k_list = [0 1 2 3 0 1 2 3 0 1 2 3;\n",
    "          0 0 0 0 1 1 1 1 2 2 2 2]\n",
    "Nk = 12\n",
    "Gk = (4, 3)  # Grid dimensions\n",
    "\n",
    "# Total number of electrons (3 electrons across both layers)\n",
    "Ne = 6"
   ]
  },
  {
   "cell_type": "code",
   "execution_count": 2,
   "metadata": {},
   "outputs": [],
   "source": [
    "# Physical parameters\n",
    "Gl = sqrt(2π/sqrt(0.75))   # Magnetic length scale\n",
    "D_l = 5.0                  # Screening length D/l\n",
    "W0 = 1.0                   # Interaction strength\n",
    "G12_angle = 2π/3           # Angle between reciprocal lattice vectors (triangular lattice)\n",
    "d_l = 3.0                  # Inter-layer distance d/l\n",
    "t = 0.0 * W0              # Inter-layer tunneling strength\n",
    "ΔE = 0 * W0              # Energy difference between the two layers\n",
    "\n",
    "\n",
    "# Define the form factor for Coulomb interaction in Landau level\n",
    "# This includes the Landau level projection exp(-0.5 * q²l²)\n",
    "# For bilayer: add extra e^{-ql*d/l} factor for different-layer interactions\n",
    "function VFF_bilayer(q1::Float64, q2::Float64; diff_layer=false)\n",
    "    ql = sqrt(q1^2 + q2^2 + 2cos(G12_angle) * q1*q2) * Gl\n",
    "    if ql == 0.0\n",
    "        return W0 * D_l  # Regularization at q=0\n",
    "    end\n",
    "    \n",
    "    V = W0 / ql * tanh(ql * D_l) * exp(-0.5 * ql^2)\n",
    "    \n",
    "    # Apply inter-layer attenuation factor for different-layer interactions\n",
    "    if diff_layer\n",
    "        return V * exp(-ql * d_l)  # Exponential attenuation with distance d_l\n",
    "    end\n",
    "    \n",
    "    return V\n",
    "end\n",
    "\n",
    "# Sign function for reciprocal lattice vectors\n",
    "# Determines the phase structure of the magnetic translation group\n",
    "function ita(g1::Int64, g2::Int64)\n",
    "    if iseven(g1) && iseven(g2)\n",
    "        return 1\n",
    "    else\n",
    "        return -1\n",
    "    end\n",
    "end\n",
    "\n",
    "# Cross product for 2D vectors (returns scalar)\n",
    "# Used for computing geometric phases in magnetic field\n",
    "function ql_cross(q1_1, q1_2, q2_1, q2_2)\n",
    "    return q1_1 * q2_2 - q1_2 * q2_1\n",
    "end\n",
    "\n",
    "# Bilayer interaction function - same structure as single-layer but with layer-dependent VFF\n",
    "function V_int_bilayer(kf1, kf2, ki1, ki2, cf1=1, cf2=1, ci1=1, ci2=1; output=false)::ComplexF64\n",
    "    \n",
    "    # Layer conservation: interaction must conserve layer indices\n",
    "    if ci1 != cf1 || ci2 != cf2\n",
    "        return 0.0 + 0.0im\n",
    "    end\n",
    "    \n",
    "    \n",
    "    # Calculate momentum transfer (modulo reciprocal lattice)\n",
    "    q = rem.(ki1 .- kf1, 1, RoundNearest)\n",
    "    G_shift1 = round.(Int64, ki1 .- kf1 .- q, RoundNearest)\n",
    "    G_shift2 = round.(Int64, kf2 .- ki2 .- q, RoundNearest)\n",
    "\n",
    "\n",
    "    V_total = ComplexF64(0.0)\n",
    "    # Sum over reciprocal lattice vectors for convergence\n",
    "    Nshell = 2\n",
    "    for g1 in -Nshell:Nshell, g2 in -Nshell:Nshell\n",
    "        if abs(g1-g2) > Nshell\n",
    "            continue\n",
    "        end\n",
    "\n",
    "        # Construct the full momentum transfer including reciprocal lattice\n",
    "        qq1 = q[1] + g1\n",
    "        qq2 = q[2] + g2\n",
    "\n",
    "        # Calculate phase factors from magnetic translation algebra\n",
    "        # These phases ensure proper commutation relations and gauge invariance\n",
    "        phase_angle = 0.5ql_cross(ki1[1], ki1[2], kf1[1], kf1[2])\n",
    "        phase_angle += 0.5ql_cross(ki1[1]+kf1[1], ki1[2]+kf1[2], qq1, qq2)\n",
    "        phase_angle += 0.5ql_cross(ki2[1], ki2[2], kf2[1], kf2[2])\n",
    "        phase_angle += 0.5ql_cross(ki2[1]+kf2[1], ki2[2]+kf2[2], -qq1, -qq2)\n",
    "\n",
    "        phase = cispi(2.0phase_angle)\n",
    "        sign = ita(g1+G_shift1[1], g2+G_shift1[2]) * ita(g1+G_shift2[1], g2+G_shift2[2])\n",
    "\n",
    "        # Use layer-dependent form factor\n",
    "        vff = VFF_bilayer(qq1, qq2; diff_layer=(ci1 != ci2))\n",
    "        V_total += sign * phase * vff\n",
    "    end\n",
    "\n",
    "    return V_total\n",
    "end\n",
    "\n",
    "# Set up one-body Hamiltonian matrix for inter-layer tunneling\n",
    "# H_onebody[c1, c2, cc, k] : hopping from component c2 to c1 at momentum k\n",
    "# For bilayer system: Nc_hopping=2, Nc_conserve=1, Nk=6\n",
    "H_onebody_bilayer = zeros(ComplexF64, Nc_hopping, Nc_hopping, 1, Nk)\n",
    "\n",
    "# Add tunneling terms: t = 0.5 * W0 between different layers\n",
    "# Tunneling conserves momentum (diagonal in k-space)\n",
    "for k_idx in 1:Nk\n",
    "    # Hopping from layer 2 to layer 1\n",
    "    H_onebody_bilayer[1, 2, 1, k_idx] = t\n",
    "    # Hopping from layer 1 to layer 2  \n",
    "    H_onebody_bilayer[2, 1, 1, k_idx] = t\n",
    "    H_onebody_bilayer[1, 1, 1, k_idx] = 0.5ΔE\n",
    "    H_onebody_bilayer[2, 2, 1, k_idx] = -0.5ΔE\n",
    "end\n",
    "\n",
    "# Create parameter structure for bilayer system\n",
    "# Note: H_onebody matrix handles tunneling, V_int handles interactions\n",
    "para_bilayer = EDPara(\n",
    "    k_list=k_list, \n",
    "    Gk=Gk, \n",
    "    Nc_hopping=Nc_hopping,\n",
    "    Nc_conserve=1,\n",
    "    H_onebody=H_onebody_bilayer,\n",
    "    V_int=V_int_bilayer\n",
    ");"
   ]
  },
  {
   "cell_type": "code",
   "execution_count": 3,
   "metadata": {},
   "outputs": [
    {
     "data": {
      "text/plain": [
       "12-element Vector{Int64}:\n",
       " 11202\n",
       " 11196\n",
       " 11196\n",
       " 11240\n",
       " 11232\n",
       " 11232\n",
       " 11202\n",
       " 11196\n",
       " 11196\n",
       " 11240\n",
       " 11232\n",
       " 11232"
      ]
     },
     "metadata": {},
     "output_type": "display_data"
    }
   ],
   "source": [
    "# Create momentum blocks for bilayer system\n",
    "blocks, block_k1, block_k2, k0number = \n",
    "    ED_momentum_block_division(para_bilayer, ED_mbslist(para_bilayer, (Ne,)));\n",
    "length.(blocks)"
   ]
  },
  {
   "cell_type": "code",
   "execution_count": 4,
   "metadata": {},
   "outputs": [],
   "source": [
    "# Generate scattering lists for efficient Hamiltonian construction\n",
    "scat_list1 = ED_sortedScatteringList_onebody(para_bilayer);\n",
    "scat_list2 = ED_sortedScatteringList_twobody(para_bilayer);"
   ]
  },
  {
   "cell_type": "code",
   "execution_count": 5,
   "metadata": {},
   "outputs": [
    {
     "name": "stdout",
     "output_type": "stream",
     "text": [
      "Processing block #1 with size 11202, momentum 0, 0\n",
      "  0.701063 seconds (32.99 M allocations: 623.845 MiB, 17.24% gc time, 183.45% compilation time)\n",
      "  0.895452 seconds (732.30 k allocations: 154.423 MiB, 6.02% gc time, 92.71% compilation time)\n",
      "Processing block #2 with size 11196, momentum 0, 1\n",
      "  0.482162 seconds (32.77 M allocations: 613.637 MiB, 22.89% gc time)\n",
      "  0.328712 seconds (3.33 k allocations: 69.394 MiB, 1.19% gc time)\n",
      "Processing block #3 with size 11196, momentum 0, 2\n",
      "  0.442443 seconds (32.77 M allocations: 613.633 MiB, 16.51% gc time)\n",
      "  0.321529 seconds (3.34 k allocations: 69.394 MiB, 2.19% gc time)\n",
      "Processing block #4 with size 11240, momentum 1, 0\n",
      "  0.482052 seconds (32.90 M allocations: 616.136 MiB, 22.26% gc time)\n",
      "  0.439912 seconds (4.86 k allocations: 97.620 MiB, 2.18% gc time)\n",
      "Processing block #5 with size 11232, momentum 1, 1\n",
      "  0.441714 seconds (32.88 M allocations: 615.663 MiB, 16.41% gc time)\n",
      "  0.384674 seconds (3.86 k allocations: 80.300 MiB, 2.29% gc time)\n",
      "Processing block #6 with size 11232, momentum 1, 2\n",
      "  0.498436 seconds (32.88 M allocations: 615.666 MiB, 24.43% gc time)\n",
      "  0.390672 seconds (3.80 k allocations: 79.951 MiB, 7.94% gc time)\n",
      "Processing block #7 with size 11202, momentum 2, 0\n",
      "  0.446897 seconds (32.79 M allocations: 614.005 MiB, 17.60% gc time)\n",
      "  0.499310 seconds (5.38 k allocations: 111.726 MiB, 2.10% gc time)\n",
      "Processing block #8 with size 11196, momentum 2, 1\n",
      "  0.516156 seconds (32.77 M allocations: 613.639 MiB, 22.27% gc time)\n",
      "  0.424658 seconds (3.33 k allocations: 69.394 MiB, 9.60% gc time)\n",
      "Processing block #9 with size 11196, momentum 2, 2\n",
      "  0.492778 seconds (32.77 M allocations: 613.639 MiB, 16.32% gc time)\n",
      "  0.495975 seconds (3.33 k allocations: 69.393 MiB, 8.17% gc time)\n",
      "Processing block #10 with size 11240, momentum 3, 0\n",
      "  0.470547 seconds (32.90 M allocations: 616.136 MiB, 16.09% gc time)\n",
      "  0.474502 seconds (4.86 k allocations: 97.619 MiB, 8.76% gc time)\n",
      "Processing block #11 with size 11232, momentum 3, 1\n",
      "  0.467077 seconds (32.88 M allocations: 615.666 MiB, 18.58% gc time)\n",
      "  0.389330 seconds (3.80 k allocations: 79.951 MiB, 7.34% gc time)\n",
      "Processing block #12 with size 11232, momentum 3, 2\n",
      "  0.447836 seconds (32.88 M allocations: 615.666 MiB, 16.38% gc time)\n",
      "  0.375606 seconds (3.85 k allocations: 80.298 MiB, 2.19% gc time)\n"
     ]
    }
   ],
   "source": [
    "energies = Vector{Vector{Float64}}(undef, length(blocks))\n",
    "Neigen = 6\n",
    "for i in eachindex(blocks)\n",
    "    println(\"Processing block #$i with size $(length(blocks[i])), momentum $(block_k1[i]), $(block_k2[i])\")\n",
    "    energies[i] = EDsolve(blocks[i], scat_list1, scat_list2, Neigen; showtime=true, converge_warning = false)[1]\n",
    "end"
   ]
  },
  {
   "cell_type": "code",
   "execution_count": 6,
   "metadata": {},
   "outputs": [],
   "source": [
    "# The package for plotting is not included in this package. Use the following to add it:\n",
    "# using Pkg; Pkg.add(\"CairoMakie\")"
   ]
  },
  {
   "cell_type": "code",
   "execution_count": 7,
   "metadata": {},
   "outputs": [
    {
     "data": {
      "image/png": "[encoded data removed]",
      "text/html": [
       "<img width=600 height=450 style='object-fit: contain; height: auto;' src=\"data:image/png;base64, iVBORw0KGgoAAAANSUhEUgAABLAAAAOECAYAAACxbcj6AAAAAXNSR0IArs4c6QAAAARnQU1BAACxjwv8YQUAAAAgY0hSTQAAeiYAAICEAAD6AAAAgOgAAHUwAADqYAAAOpgAABdwnLpRPAAAAAlwSFlzAAAdhwAAHYcBj+XxZQAAIABJREFUeAHswQu4F3RhP/73OXzO4eoVSROjqSniBVPEC2mhTSsvsZnJUtP6oYtq09nFmq0ws628lDinbjgtpyRTl26V0s/l/YqpCxUTvKGCgIqoXM6Bw/n9v//noeeIgAe1xw/s9XqVzv9PAAAAAKBSJQAAAABQsRIAAAAAqFgJAAAAAFSsBAAAAAAqVgIAAAAAFSsBAAAAgIqVAAAAAEDFSgAAAACgYiUAAAAAULESAAAAAKhYCQAAAABUrAQAAAAAKlYCAAAAABUrAQAAAICKlQAAAABAxUoAAAAAoGIlAAAAAFCxEgAAAACoWAkAAAAAVKwEAAAAACpWAgAAAAAVKwEAAACAipUAAAAAQMVKAAAAAKBiJQAAAABQsRIAAAAAqFgJAAAAAFSsBAAAAAAqVgIAAAAAFSsBAAAAgIqVsN5qamoKAAAAwDuhs7Mz75YSAAAAAKhYCeu9zs7OrGsWLlyYF198MX379k3//v0DAOuKxYsXZ968eendu3cGDBgQAFhXtLW1Zc6cOenZs2c233zzwApNTU15t5UAAAAAQMVKAAAAAKBiJQAAAABQsRIAAAAAqFgJAAAAAFSsBAAAAAAqVgIAAAAAFSsBAAAAgIqVAAAAAEDFSgAAAACgYiUAAAAAULESAAAAAKhYCQAAAABUrAQAAAAAKlYCAAAAABUrAQAAAICKlQAAAABAxUoAAAAAoGIlAAAAAFCxEgAAAACoWAkAAAAAVKwEAAAAACpWAgAAAAAVKwEAAACAipUAAAAAQMVKAAAAAKBiJQAAAABQsRIAAAAAqFgJAAAAAFSsBAAAAAAqVgIAAAAAFSsBAAAAgIqVwLtsyZJkzJi8TkdHz7S19U8pJa2teZ3jj0/23z8AwHrsV79Krrgi3dKjR3LZZQEA1mMl8C6bMSOZODErKUlKVmXGjOSeewIArMdOPjl57LF022WXBQBYj5UAAAAAQMVK4F22887Jww/ndRYvXpiXX16QPn36ZqONNkpXgwYFAFjP3XNPMmtWuqWUAADruRKowI475nUWLkxefHFZ+vZdlv79AwD8L7PxxsnGGwcA4P9XAgAAAAAVKwEAAACAipUAAAAAQMVKAAAAAKBiJQAAAABQsRIAAAAAqFgJAAAAAFSsBAAAAAAqVgIAAAAAFSsBAAAAgIqVAAAAAEDFSgAAAACgYiUAAAAAULESAAAAAKhYCQAAAABUrAQAAAAAKlYCAAAAABUrAQAAAICKlQAAAABAxUoAAAAAoGIlAAAAAFCxEgAAAACoWAkAAAAAVKwEAAAAACpWAgAAAAAVKwEAAACAipUAAAAAQMVKAAAAAKBiJQAAAABQsRIAAAAAqFgJAAAAAFSsBAAAAAAqVgIAAAAAFSsBAAAAgIqVAAAAAEDFSgAAAACgYiUAAAAAULESAAAAAKhYCQAAAABUrAQAAAAAKlYCAAAAABUrAQAAAICKlQAAAABAxUoAAAAAoGIlAAAAAFCxEgAAAACoWEnFnnnmmdxxxx3ZdtttM3z48Lxdzz77bKZNm5aWlpYMGTIkm2++eQAAAACoW0mlli5dmk996lOZMmVKxowZk+HDh+etmjhxYr7xjW/k2WefTVc77LBDzjnnnBx88MFZ2VZbbZUlS5ZkbUycODEHHXRQVjjnnHPyD//wD3kzu+yyS2666aYAAAAA8EYllfq7v/u7TJkyJW/XCSeckIsvvjgrvOc970l7e3tefvnlPProoznkkENy2mmnZdy4cenqhRdeSFtbW9ZGe3t7upo6dWpefPHFvJn58+cHAAAAgFUrqdCNN96Ys846K2/Xv//7v+fiiy9Ow8EHH5zzzz8/W2+9dRqmTp2aL3zhC7nrrrty+umn54ADDsh+++2XFf72b/82S5cuzZu57777Mnny5PTv3z+77757upo+fXoaPvShD2XkyJFZnfe+970BAAAAYNVKKvPCCy/k2GOPTWdnZ5qamtLZ2Zm36pJLLknDNttsk6uvvjq9e/fOCrvsskuuu+66DB48OPPnz89ll12W/fbbLyuMGzcub2bBggUZOnRoGi699NJsueWW6WrGjBlpOOaYYzJ27NgAAAAAsPZKKvP5z38+s2fPzuGHH57/+Z//yeOPP5636r777kvDxz72sfTu3TsrGzBgQEaMGJFf/vKXmTJlStbWF7/4xcycOTMnnXRSDjvssHT1yiuvZO7cuWnYfvvtAwAAAMBbU1KR888/P7/4xS8ycODATJgwIXvuuWfejsWLF6eho6Mjq7N8+fI0LFmyJGvjiiuuyM9+9rPstttuOfPMM7OyGTNmZIXBgwcHAAAAgLempBJTp07N17/+9TQ3N+eyyy7Lpptumrdrr732yk033ZTrr78+r776ajbYYIN0NWvWrNxxxx1p2HPPPdNdc+bMyZe//OU0NTXlkksuSWtra1Y2ffr0NPTr1y8DBw7MXXfdld/+9rd5/vnns91222Xo0KEZOnRoevToEQAAAABWr6QCixcvzmc+85ksWbIk3/jGN3LAAQfknfCDH/wgI0eOzDPPPJNDDjkkP/7xj/PBD34wHR0dufPOO3PSSSfllVdeSf/+/fPtb3873TVu3LgsWLAgn/3sZ/PBD34wqzJjxow0bLDBBvnoRz+a3/zmN1nZ8OHD86//+q/ZZZddAgAAAMCqlVTgK1/5Sh5++OEMGzYs3/ve9/JO2XPPPXPjjTfmqKOOym233ZY99tgjra2t6ejoSEdHRxqGDh2aiRMnZrvttkt3TJs2LRdffHF69eqVM844I6szffr0NMyePTuzZ89O//79M3z48JRS8rvf/S4zZ87MlClTMmzYsNxwww054IAD0l177LFH1sbzzz+fdc2iRYsyf/78LFy4MEuXLg0ArCuWLFmSF198Mb169UpHR0cAYF3R3t6eefPmpbW1NZ2dnYGalLzLrr322lx00UXp27dvJk6cmJaWlrzTNtxww6zQ3t6erjbZZJM0Nzenu0455ZR0dHTkq1/9agYNGpTVmT59ehpKKbngggtywgknpKsJEybk5JNPzsKFC/OXf/mXmTp1anr37p3u+O1vf5u10d7ennVNe3t7li5dmvb29rS3twcA1hXt7e1ZunRpmpub097eHgBYV7S3t2fp0qVpampKe3t7oCYl76LnnnsuY8aMScP48eOz/fbb5500adKkHH300eno6MiQIUNy8sknZ+edd057e3v+53/+J2effXZuueWW7LHHHrnhhhuy3377ZU1uv/32/OIXv0jv3r3zzW9+M2vy2c9+Nocddlh23333HHTQQVnZCSeckNdeey1f+cpX8vjjj+fSSy/Nl770pXTHfffdl+7YY4890rDFFltkXbNw4cK0tLSkT58+6d+/fwBgXbF48eL06NEjvXr1yoABAwIA64q2trY0NTWlZ8+eec973hOoScm7ZPny5TnmmGPy0ksv5VOf+lTGjBmTd9IzzzyTY489Nh0dHfnEJz6R//zP/0wpJSt85CMfyfHHH5999903DzzwQA4//PA89dRT6du3b1bn3HPPTcMRRxyRTTbZJGsyduzYvJm//uu/zumnn56XX345DzzwQLpr2LBhWRutra1Z1yxdujQtLS1pbW1Na2trAGBd0dHRkZaWlrS2tqa1tTUAsK7o7OxMS0tLWlpa0traGqhJybvkvvvuy80335yGbbbZJj/4wQ+yspdffjkNv/vd7/KDH/wgDXvttVf233//vJkJEyakvb09DRMmTEgpJSvr06dPLrjgguyzzz554YUXcuWVV2bMmDFZldmzZ+e6665Lw5gxY/JOKKVkhx12yN13352pU6cGAAAAgDcqeZcsX748K5x11llZkylTpmTKlClp+OpXv5r9998/b+bRRx9Nw6BBgzJw4MCszrBhw9KzZ8+0tbVl2rRpWZ1/+Zd/ybJly/KBD3wgH/7wh/NO6d+/fxp69uwZAAAAAN6o5F2y4YYb5iMf+UjW5J577smSJUuyxRZbZPDgwWnYdttt0x2bbLJJGtrb27MmHR0d6ejoSMNGG22UVeno6MiECRPS8PnPfz5NTU1Zk5tuuimTJk1Kc3NzzjnnnPTu3Tur89hjj6Vh5513DgAAAABvVPIu2XHHHXPzzTdnTT7wgQ/k8ccfzyGHHJKLL744a2P33XdPw/PPP5/f//73GTx4cFbl9ttvz7Jly9IwbNiwrMptt92W5557Lg2f+MQn8ma23HLL/PM//3Ma9tprrxx33HFZlYceeiiPP/54GnbdddcAAAAA8EYl67AlS5bkJz/5SRo22WSTjB49OisceOCB6d27dxYvXpzPf/7zmTx5cjbYYIN0NXfu3Hzxi19Mw2abbZYRI0ZkVa6//vo0bLjhhhk6dGjezODBg7PbbrvlgQceyCmnnJKRI0fm/e9/f7p66aWXcvzxx2f58uXZeuutc8wxxwQAAACANypZh7322mv54he/mIbBgwdn9OjRWWGbbbbJ2WefnS9/+cu56667ssMOO+RLX/pSdtppp7S1teXBBx/MhRdemAULFqThkksuycYbb5xVuf7669PwoQ99KD169Eh3/NM//VNGjhyZuXPnZtddd81f/dVfZdiwYeno6MhDDz2UCy+8MHPnzk3DRRddlD59+gQAAACANypZj33pS1/KK6+8kjPOOCOzZs3K3/3d32Vl/fv3zw9/+MMcdthhWZXnnnsuU6dOTcN+++2X7tpnn31yySWXZOzYsVmwYEG+//3vZ2VbbrllLrroohx00EEBAAAAYNVKKnbiiSfmpZdeyu67755V6dOnT8aNG5eGzTbbLKvyzW9+M5/97GdzwQUX5KGHHsq0adPS0tKSIUOG5IMf/GC+/OUvZ5NNNsnqvPLKKxk3blwajjjiiKyNo48+Oh/72Mdy7rnn5t57781TTz2VHj16ZOjQodltt90yduzYbLzxxgEAAABg9UoqduKJJ2ZN+vTpk9NOOy1vZuDAgfn+97+ft2LIkCE57bTT8lZtttlmOeOMMwIAAADAW1MCAAAAABUrAQAAAICKlQAAAABAxUoAAAAAoGIlAAAAAFCxEgAAAACoWAkAAAAAVKwEAAAAACpWAgAAAAAVKwEAAACAipUAAAAAQMVKAAAAAKBiJQAAAABQsRIAAAAAqFgJAAAAAFSsBAAAAAAqVgIAAAAAFSsBAAAAgIqVAAAAAEDFSgAAAACgYiUAAAAAULESAAAAAKhYCQAAAABUrAQAAAAAKlYCAAAAABUrAQAAAICKlQAAAABAxUoAAAAAoGIlAAAAAFCxEgAAAACoWAkAAAAAVKwEAAAAACpWAgAAAAAVKwEAAACAipUAAAAAQMVKAAAAAKBiJQAAAABQsRIAAAAAqFgJAAAAAFSsBAAAAAAqVgIAAAAAFSsBAAAAgIqVAAAAAEDFSgAAAACgYiUAAAAAULESAAAAAKhYCQAAAABUrAQAAAAAKlYCAAAAABUrAQAAAICKlQAAAABAxUoAAAAAoGIlAAAAAFCxEgAAAACoWAkAAAAAVKwEAAAAACpWAgAAAAAVKwEAAACAipUAAAAAQMVKAAAAAKBiJQAAAABQsRIAAAAAqFgJAAAAAFSsBAAAAAAqVgIAAAAAFSsBAAAAgIqVAAAAAEDFSgAAAACgYiUAAAAAULESAAAAAKhYCQAAAABUrAQAAAAAKlYCAAAAABUrAQAAAICKlQAAAABAxUoAAAAAoGIlAAAAAFCxEgAAAACoWAkAAAAAVKwEAAAAACpWAgAAAAAVKwEAAACAipUAAAAAQMVKAAAAAKBiJQAAAABQsRIAAAAAqFgJAAAAAFSsBAAAAAAqVgIAAAAAFSsBAAAAgIqVAAAAAEDFSgAAAACgYiUAAAAAULESAAAAAKhYCQAAAABUrAQAAAAAKlYCAAAAABUrAQAAAICKlQAAAABAxUoAAAAAoGIlAAAAAFCxEgAAAACoWAkAAAAAVKwEAAAAACpWAgAAAAAVKwEAAACAipUAAAAAQMVKAAAAAKBiJQAAAABQsRIAAAAAqFgJAAAAAFSsBAAAAAAqVgIAAAAAFSsBAAAAgIqVAAAAAEDFSgAAAACgYiUAAAAAULESAAAAAKhYCQAAAABUrAQAAAAAKlYCAAAAABUrAQAAAICKlQAAAABAxUoAAAAAoGIlAAAAAFCxEgAAAACoWAkAAAAAVKwEAAAAACpWAgAAAAAVKwEAAACAipUAAAAAQMVKAAAAAKBiJRW75ZZb8rOf/Sz77rtvjjnmmLwdjz32WO69995MmzYtLS0tGTJkSPbZZ58MGjQoq7NkyZLMmDEj3bHjjjumubk5q7Jo0aJcd911efjhh7No0aIMGjQohx56aD7wgQ8EAAAAgDUrqdTcuXMzevTozJkzJ8uWLcsxxxyTt+KFF17Iqaeemn/913/N8uXL01Vra2tOOumkfOc730m/fv2ysttuuy0HHXRQumP+/PnZeOONs7Jrr702Y8aMyUsvvZSuTj755Jxwwgk577zz0qtXrwAAAACwaiUV6uzszOc+97nMmTMnb8eyZcty2GGH5e67707DNttskz322CPt7e259957M2vWrJx11lmZPn16fv7zn2dl06dPz9sxefLkHHHEEeno6Ehzc3P22GOPbLHFFrn55pvzyiuvZMKECVmwYEEmTZoUAAAAAFatpELjx4/P9ddfn7frzDPPzN13352G7373u/nWt76VHj16pGHJkiX5yle+kgsvvDDXXnttLrvsshx77LHpavr06WkYOnRozjnnnKxJv3790lVbW1vGjBmTjo6ObLzxxrnzzjszZMiQNCxdujSHH354fvGLX+Tf//3fc9RRR2XUqFEBAAAA4I1KKvPggw/mm9/8Znr06JGePXtm0aJFeat++ctfpmHvvffOd77znXTVq1evjB8/Pr/61a/y9NNP51e/+lWOPfbYdPX444+nYdiwYfnTP/3TrI0rrrgizz33XBquuOKKDBkyJCu0tLTkZz/7WYYOHZonn3wyZ511VkaNGhUAAAAA3qikIosWLcpnPvOZtLW1Zdy4cbn88svz+OOP56168MEH07DPPvtkVVpaWjJ8+PA8/fTTeeCBB7Ky6dOnp2H77bfP2rr22mvTsMMOO+Tggw/Oyvr165dPf/rTOfPMM3PXXXdl3rx5GTBgQAAAAAB4vZKKnHTSSXn00UczYsSIfPvb387ll1+et6Nnz55ZtGhR5syZk9WZM2dOGnr37p2uli9fnieffDINgwcPztq67bbb0vDRj340q/PJT34yZ555ZpYvX57bb789f/7nfx4AAAAAXq+kEtdcc00uvvjibLjhhrniiivSo0ePvF2HHHJILr/88lx33XWZPn16tttuu3R111135a677krDxz/+8XQ1c+bMtLW1peEDH/hAfvKTn+Q3v/lNnnjiiWy55ZbZZZdd8olPfCJ77LFHVjZnzpy8/PLLadh5552zOsOHD09TU1M6Ozvz2GOPBQAAAIA3KqnAM888kxNOOCENF1xwQf7kT/4k74Szzz47d955Z5544omMGDEi3/zmN7Pnnntm6dKlufXWW3POOedk2bJlGTZsWL71rW+lq+nTp2eFUaNG5cknn0xXV111VU477bT81V/9Vf7+7/8+ffv2zQrPPPNMVthqq62yOq2trRkwYEDmzp2bmTNnBgAAAIA3KnmXdXR05Oijj878+fNzzDHH5Oijj847ZfPNN8+9996bI488Mr/5zW/yta99LSs76qijMmHChPTp0yddzZgxIys8+eSTGTlyZEaMGJGBAwfmkUceyTXXXJPnn38+5513XmbNmpWrrroqK7z22mtZoV+/flmTfv36Ze7cuXn11VfTXU1NTVkbM2fOzLpm0aJFefnll9O7d+8sXLgwALCuWLJkSV566aX07NkzixcvDgCsK9rb2/PCCy+ktbU1bW1tgZqUvMu+//3v57bbbsvWW2+df/qnf8o7qbOzMxdffHHuvvvurNCrV690dHRk6dKlaZg8eXKuvvrqHHvsselq+vTpaSil5N/+7d/yF3/xF+nq9NNPz1FHHZXJkyfn6quvznXXXZdRo0alYfHixVmhZ8+eWZOePXumYdGiRQEAAADgjUreRXfeeWdOP/309OjRI5dffnk23HDDvJNOPvnkjB8/Pk1NTTn++ONzyimnZNttt83y5cvzyCOP5PTTT88111yT4447LvPnz89JJ52UFb785S/nyCOPzCabbJLBgwdnZZtuuml+8pOfZPvtt8+rr76aCy64IKNGjUpDr169skJ7e3vWpK2tLQ2tra3prs7OznRHU1NTGgYNGpR1zcKFC9OnT5/07ds3/fv3DwCsKxYvXpxevXqld+/eGTBgQABgXdHW1pbW1tb07Nkzm2++eaAmJe+SV155JUcddVQ6Ojpy2mmnZcSIEXkn3XvvvRk/fnwavv71r+eHP/xhVmhubs7QoUNz9dVX5zOf+UyuvPLKnHLKKfnUpz6VrbbaKg3bbrtttt1226zJFltskcMOOywTJ07M1KlTs0Lfvn2zwsKFC7MmixYtSkO/fv0CAAAAwBuVvEseeeSRPP3002m4/fbb8/GPfzwrmz17dhomT56cj3/842k44ogjcvzxx+fNTJw4MQ09evTIuHHjsjrf+973cuWVV6a9vT1XXXVVTj755KyNHXbYIQ2zZ8/OggULstFGG2XgwIFZYdasWVmdZcuWZe7cuWnYcsstAwAAAMAblVTgxhtvzJo8++yzefbZZ9Ow8847pztmzpyZhm233TZ9+vTJ6my77bbp06dPFi1alKeeeiprq7m5OQ19+/bNhhtumIaBAwemX79+ee211/L73/8+qzNjxowsX748DUOGDAkAAAAAb1TyLtlqq60ybty4rMl5552X+fPnZ7fddssnP/nJNIwYMSLdsc0226Rh9uzZ6ezsTFNTU1ZlwYIFWbRoURq23nrrNDzzzDM56KCD0tnZmbPPPjuHHnpoVmfatGlp2HHHHdPU1JQVRowYkV//+te57bbbsjq33XZbVhgxYkQAAAAAeKOSd8lWW22V0047LWty+eWXZ/78+dl9991z2mmnZW3svvvuaXj11Vfz61//Oh/72MeyKldffXVWGDZsWBre9773pbW1Nb/73e/yox/9KIceemhW5bnnnst1112Xhn322SddjRo1Kr/+9a9zzz33ZNq0aRkyZEhW9tOf/jQNe+yxR973vvcFAAAAgDcqWYe9+uqrOeGEE9IwcODAnHPOOVnh4IMPzvve974888wzGTNmTH7+859n+PDh6Wry5Mn5yle+koZdd901e+21V1Y47rjj8tWvfjU33XRT/vZv/zZnnHFGevTokRWefvrpHHPMMXnttdey2Wab5dvf/na6Ou6443Laaadl3rx5GTt2bCZPnpxevXplhYsuuih33HFHGr7+9a8HAAAAgFUrWYe1tbVl0qRJaRg8eHDOOeecrLDxxhvn8ssvz/7775/nnnsue++9dw444IDstNNOaWtry4MPPpi77747DX369MmVV16Z1tbWrHDSSSflhhtuyP/9v/83P/jBD3LNNddk5MiR2XDDDfPoo4/m5ptvzsKFC9Pc3Jx//Md/zGabbZau+vbtm/PPPz+jR4/Orbfeml122SV/9md/lgEDBuTGG2/MjTfemIbDDjssn/70pwMAAADAqpWsxz784Q/n1ltvzYknnpj7778/N954Y2688cZ0dcABB2T8+PHZYYcd0lWPHj0yadKkjB07NldddVWmT5+e6dOnp6vBgwfnkksuyYgRI7IqRx55ZF599dWceOKJmTFjRs4+++x0NXr06Fx88cVpamoKAAAAAKtWUrErrrgiixcvznvf+96sykYbbZSbbropDX369MmqfOhDH8qUKVPy3//933nooYcybdq0tLS0ZMiQIfngBz+YfffdN6uzySabZNKkSfnOd76TyZMn56mnnsqrr76anXbaKUOHDs2HP/zh9OrVK2syZsyYHHrooZk0aVIefvjhLF68OIMGDcqoUaMyfPjwAAAAALBmJRXba6+9siYtLS0ZOXJk3kxzc3MOPPDAHHjggXkrdtppp+y00055qzbffPOceOKJAQAAAGDtlQAAAABAxUoAAAAAoGIlAAAAAFCxEgAAAACoWAkAAAAAVKwEAAAAACpWAgAAAAAVKwEAAACAipUAAAAAQMVKAAAAAKBiJQAAAABQsRIAAAAAqFgJAAAAAFSsBAAAAAAqVgIAAAAAFSsBAAAAgIqVAAAAAEDFSgAAAACgYiUAAAAAULESAAAAAKhYCQAAAABUrAQAWO9dckly773plkGDklNPDd30pS8ly5fnD5Yta8mSJZumlJJevfI6o0cn++8fAKjCyScnixfnDzo6ShYv3jTNzc3p0yev88lPJgcfHLrhnnuSSy9Nt517btKrV3gTJQDAeu+ss5JHH023bLhhcuqpoZsuvDArKUn6ZVWWLk323z8AUIXx45POznTRI0m/rMrcucnBB4duuOaa5J//Od323e8mvXqFN1ECAKz3+vVLmpvTLb17h7XQ3Jxu69s3AFCNlpZk2bJ0S79+oZv69k2am9NtPXqEbigBANZ7U6aEP5KOjrzO4sWLM2/evPTu3TsDBgwIANSqrS2v09bWljlz5qRnz57ZfPPNw1szblwyblx4h5UAQCX++7+TY49Nt/3iF8luuwUAWI+NHZv813+lW7bYIvntbwOsh0oAoBIzZyazZqXb5swJALCeu//+ZNasdMtLLwVYT5UAQCW22y7Zccd021ZbBQBYz40cmSxcmG7ZYosA66kSAKjEvvsmDz8cAIA/OPPM5MwzA/wvVwIAAAAAFSsBAAAAgIqVAAAAAEDFSgAAAACgYiUAAAAAULESAAAAAKhYCQAAAABUrAQAAAAAKlYCAAAAABUrAQAAAICKlQAA670jj0xuvjndsvXWyT33hG7aYot1PzARAAAgAElEQVRk+fJ00SvLlw9MU1NTmpryOl/7WnLKKQGAKrz//cnixemiNcuXD0zSlObmvM5f/mVyxhmhGyZMSL71rXTbY48lG28c3kQJALDemzo1mTcv3dLWFtbCnDlZSVOSHlmV3/8+AFCNZ55JOjvTRVOSHlmVRx4J3TR9ejJvXrqtrS10QwkAsN772MeSnj3TLdtsE9bCbrsly5fnDzo7l2fZsmVpbm5Ojx4lXe27bwCgGnvvnSxalD/o7OzMsmVL09TUnFJKutp//9BNe+6Z7Lpruq1v39ANJQDAeu/cc8Mfyf3353UWL27LvHnz0rt37wwYMCAAUKs778zrtLW1Z86cOenZs2c233zz8NYccURyxBHhHVYCAAAAABUrAQAAAICKlQAAAABAxUoAAAAAoGIlAAAAAFCxEgAAAACoWAmw3vriF5NLL023tLYmr7wSuum9703mz0+3HHhg8l//FQCowjbbJLNmpVv23ju5+ebQDbffnvzpn6bbJk5MDj88AHRTCbDemjMnaWtLt7S3h7Xw8stJW1u6Zc6cAEA1XnwxaWtLt8yZE7rptdeStrZ024IFAWAtlADrrdGjk87OdEvv3mEtfO5zyfPPp1sOPDAAUI0xY5Inn0y3fOhDoZsGD07+7M/SbcOHB4C1UAKst0aPTkaPDn8EF14YAFgn/ehH4Y9g662Tn/88APyRlADrrTPOSCZMSLf06pX8/vehm/baK3n++XTLIYckF1wQAKjCyJHJk0+mWz7ykeSyy0I3PPhgMmpUuu0nP0n23z8AdFMJsN66//5k5sx0S1NTWAu/+12yZEm65b77AgDVeOCB5JVX0i1TpoRuev75ZObMdNtTTwWAtVACrLf23jt56KF0S58+YS0MH548/3y6Zd99AwDV2Gef5Ikn0i377hu6acstk+22S7dtu20AWAslwHrrlFOSU04JfwS33hoAWCfdcEP4Ixg6NHnssQDwR1ICAAAAABUrAQAAAICKlQAAAABAxUoAAAAAoGIlAAAAAFCxEgAAAACoWAkAAAAAVKwEAAAAACpWAgAAAAAVKwEAAACAipUAAAAAQMVKAAAAAKBiJQAAAABQsRIAAAAAqFgJAAAAAFSsBAAAAAAqVgIAAAAAFSsBAAAAgIqVAAAAAEDFSgAAAACgYiUAAAAAULESAAAAAKhYCQAAAABUrAQAAAAAKlYCAAAAABUrAQAAAICKlQAAAABAxUoAAAAAoGIlAAAAAFCxEgAAAACoWAkAAAAAVKwEAAAAACpWAgAAAAAVKwEAAACAipUAAAAAQMVKAAAAAKBiJQAAAABQsRIAAAAAqFgJAAAAAFSsBAAAAAAqVgIAAAAAFSsBAAAAgIqVAAAAAEDFSgAAAACgYiUAAAAAULESAAAAAKhYCQAAAABUrAQAKrFoUTJjRrpthx2S1tYAAOux2bOTefPSLb17J9ttF2A9VAIAlZg0Kfk//yfddv31ycc/HgBgPTZqVDJlSrqlV69k8eIA66ESAAAAAKhYCQBUYtSo5Kqr0m0jRgQAWM9dfHHy2GPplo02CrCeKgGASmy6aXLEEQEA+IOhQ5OhQwP8L1cCAAAAABUrAQAAAICKlQAAAABAxUoAAAAAoGIlAAAAAFCxEgAAAACoWAkAAAAAVKwEAAAAACpWAgAAAAAVKwEAAACAipUAAAAAQMVKAAAAAKBiJQAAAABQsRIAAAAAqFgJAAAAAFSsBAAAAAAqVgIAAAAAFSsBAAAAgIqVAAAAAEDFSgAAAACgYiUAAAAAULESAAAAAKhYCQAAAABUrKRi5513Xi644IJ8+tOfzve+9728VcuWLctPf/rT3HXXXZk2bVpaWloyZMiQjBw5MkceeWSampqyJg8//HB+9rOf5bHHHssTTzyRLbbYIjvvvHM+8YlP5CMf+UhW58EHH8ztt9+eNzNgwICMHj06AAAAALxRSaXuv//+fP3rX097e3tmz56dt2rKlCk57rjjMm3atHR1yy235KKLLsqPfvSjXHbZZRk8eHBW1t7enm9/+9v50Y9+lGXLlqWrX/7yl/nhD3+Yv/iLv8j48ePznve8Jyu77LLL8uMf/zhvZtddd83o0aMDAAAAwBuVVGjhwoX5zGc+k/b29rwd8+bNy6hRozJ79uz06NEjRx99dPbee++0t7fn1ltvzX/8x3/k3nvvzeGHH5777rsvvXv3Tldnn312zjzzzDRsvfXWOfbYY7Pddtvl6aefzjXXXJP7778/V155ZWbPnp3f/OY3aW5uTlfTp08PAAAAAG9PSYX++q//Oo899ljernHjxmX27Nlpbm7O5MmT89GPfjQrnHTSSbn88svz2c9+No888kh+/OMf59RTT80KM2fOzPe///007LfffvnlL3+ZDTbYICt84xvfyNe+9rWce+65ueWWW3Leeeflb/7mb9LVjBkz0vDd7343p556alanqakpAAAAAKxaSWUmTZqUSy+9NJtuummampry4osv5q26/fbb03DooYfmox/9aFZ2zDHH5JxzzsmDDz6YO+64I1399Kc/zaJFi9LU1JTx48dngw02SFc9evTIWWedlcmTJ2fatGm57rrr8jd/8zdZYfny5XniiSfSMGTIkJRSAgAAAMDaK6nI008/nS984QtpmDBhQk455ZS8+OKLeaseffTRNGy33XZZncGDB+fBBx/MtGnT0tXdd9+dhq233jq77bZbVqWUkgMOOCDTpk3L/fffn87OzjQ1NaVh5syZaW9vT8PgwYMDAAAAwFtTUomOjo4cddRRWbBgQY4//vgcfvjhOeWUU/J2bL755nn22WfzyCOPZHUeeeSRNGyxxRbpatasWWnYcccdsyZ9+vRJw9KlS9PV9OnT09DU1JTtttsuK7S3t6e1tTUAAAAAdE9JJb773e/mzjvvzPbbb59zzz0374TPfe5zOeOMM3LDDTfk5z//ef78z/88XZ1//vmZOnVqGo499th0dccdd2T58uVpaWnJmtx4441p2GGHHdLU1JQVZsyYkYZBgwblvvvuyxlnnJHf/va3eemll/L+978/Q4cOzfHHH5/DDjssAAAAAKxeSQVuu+22/P3f/31aWloyceLE9O3bN++EcePG5aGHHsq1116bww8/PIceemj23HPPLF26NLfeemtuueWWNIwdOzZjx45NV3369MmbOf/88/PAAw+k4Qtf+H/swQuU13WBN/73zHyGmQEhvACSiqsFrPeH4zUv6bK2mz5mpqd6FHVzlc1aRcvAylLJxNBWUxFLbTVFrX3CzHjS0sqi8pLrpuQtEEtRIgRtuMyFYfif3/+c2UMKOJgu37HX6/XRrG3u3Lmpef755/Pud787a/vd736X3/3ud7njjjvy4Q9/ONddd10222yz9Nb8+fOzMbq6utLXdHV1paurK11dXenq6goA9BVdXV3p6upKV1dXurq6AgB9RVdXV7q6utLQ0JCurq5AlZRsYi+99FLGjRuX1atXZ8qUKdlzzz3zRiml5LbbbsuRRx6ZWbNmZdasWZk1a1bWNmHChFx++eXZGF1dXfniF7+YCy64IDX77LNPTjrppKxt3rx5qenq6sqoUaNy+umnZ++9904pJY888kguuuiizJs3L9/61rey1VZbZdq0aemtd7zjHdkYL7zwQvqalStX5uWXX05LS0s6OjoCAH1Fe3t7li5dmqampqxatSoA0Fd0dnbmxRdfTL9+/bJ69epAlZRsYuPHj89zzz2XsWPHZuLEiXkjtba25sMf/nDuuuuu1GyzzTbZZZdd0tnZmcceeyyLFy/OFVdckWXLluVrX/taGhsb81ruvPPOnHXWWXniiSdSs8cee+T73/9++vXrl7U999xzaWpqyr777pvvf//7GTBgQHrsueeeOfbYY3P44Yfn3nvvzdVXX50TTjgh++67b3pjxx13TG/Mnz8/NaWU9DWllDQ0NKSUklJKAKCvKKWkoaEhpZSUUgIAfUV3d3caGhrS0NCQUkqgSko2oWuvvTYzZ87MFltskRtvvDF1dXV5o3R3d+eII47I7NmzM2jQoEyfPj3HHXdc6urqUtPV1ZWvfvWr+eQnP5nrr78+nZ2dmTFjRtbnt7/9bU4//fT88Ic/TE1DQ0POOuusfOELX0hTU1Ne6b/+67+yIS0tLZk+fXp23XXXdHd353vf+1723Xff9MbTTz+d3qirq0vN29/+9vQ1K1asSL9+/TJgwIBsueWWAYC+oq2tLaWUtLS0ZMiQIQGAvqKjoyP19fVpamrKsGHDAlVSsoksWLAgZ555Zmquu+66bLPNNnkjzZw5M7Nnz07NVVddlXHjxmVtpZScdtppaW1tzTnnnJObb745Z5xxRvbee++sbc2aNbn44otz7rnnprOzMzXve9/7ctFFF2WXXXbJX2KnnXbKjjvumHnz5mXOnDkBAAAA4NVKNpEFCxZk5cqVqTn22GOzLp2dnam54YYbMmPGjNR84hOfyEUXXZTXcs8996SmpaUlxx57bNbnlFNOyTnnnJOaH/7wh9l7773TY82aNTn++ONzyy23pGb33XfPtGnTctBBB+WNMmrUqMybNy+///3vAwAAAMCrlVRAR0dHNmT16tVZvXp1alatWpXeWLp0aWpGjBiRhoaGrM/QoUMzYMCArFixIi+++GLWdsYZZ+SWW25JzWc/+9mcf/75aWxszGtZvnx5li9fnvr6+gwdOjQb8tJLL6Vm5MiRAQAAAODVSjaRnXfeOT/5yU+yIePGjcsLL7yQww8/PBMnTkzNdtttl97YZZdd8u1vfzvPPPNMVq1alcbGxqzLggULsmLFitTsuuuu6XHfffflyiuvTM0ll1yST33qU+mtu+66Kx/84AdT85vf/Ca77LJL1mXVqlV54oknUrPbbrsFAAAAgFcr2UQGDRqUQw45JBvS0tKSmuHDh+eQQw7Jxthrr71S09nZmenTp+eMM87Iulx22WXpsddee6XHlVdemZoxY8bkrLPOysY44ogjMnDgwCxbtiwXXnhhbrnllqzLpZdempdffjl1dXV573vfGwAAAABeraQPW7p0aXbeeefUjBw5MrNnz06Pww47LAcddFBmz56ds88+O11dXZkwYUIaGxtTs2zZskyZMiWXXXZZaj70oQ9ljz32SM2aNWty++23p2bzzTfPVVddldcyYMCAnHTSSalpbm7OySefnK985Su59dZbM2zYsHzhC1/IwIEDU9PZ2ZlLLrkkX/jCF1Lz0Y9+NPvss08AAAAAeLWSPqy7uzuLFi1KzeDBg7O2hoaGzJgxI/vss08WLVqUT33qU/n85z+fUaNGpaOjI08//XRWrVqVmlGjRuWaa65Jj+effz5tbW2p+fGPf5wf//jHeS3Dhg3LSSedlB5Tp07Nr371q/ziF7/IV77ylXzta1/LyJEjs3r16sydOzednZ2p2WefffKlL30pAAAAAKxbyVvYiBEj8uSTT2by5MmZNm1a2tra8sgjj6RH//79c/bZZ2fSpElpbm5Oj6effjp/qX79+mXWrFm56KKLctVVV2XFihV59NFH02PAgAE599xzc9ZZZ6WhoSEAAAAArFtJhc2bNy8bstVWW2XNmjXZkMGDB+eyyy7LhRdemKeeeipPPPFEGhsbs9NOO2XUqFHp169fXunggw/OmjVr8pcaPHhwpk6dms985jN5/PHH87vf/S4NDQ3ZfffdM2rUqDQ0NAQAAACADSv5K9G/f/+MGTMmY8aMyf+0wYMHZ//998/+++8fAAAAADZOCQAAAABUWAkAAAAAVFgJAAAAAFRYCQAAAABUWAkAAAAAVFgJAAAAAFRYCQAAAABUWAkAAAAAVFgJAAAAAFRYCQAAAABUWAkAAAAAVFgJAAAAAFRYCQAAAABUWAkAAAAAVFgJAAAAAFRYCQAAAABUWAkAAAAAVFgJAAAAAFRYCQAAAABUWAkAAAAAVFgJAAAAAFRYCQAAAABUWAkAAAAAVFgJAAAAAFRYCQAAAABUWAkAAAAAVFgJAAAAAFRYCQAAAABUWAkAAAAAVFgJAAAAAFRYCQAAAABUWAkAAAAAVFgJAAAAAFRYCQAAAABUWAkAAAAAVFgJAAAAAFRYCQAAAABUWAkAAAAAVFgJAAAAAFRYCQAAAABUWAkAAAAAVFgJAAAAAFRYCQAAAABUWAkAAAAAVFgJAAAAAFRYCQAAAABUWAkAAAAAVFgJAAAAAFRYCQAAAABUWAkAAAAAVFgJAAAAAFRYCQAAAABUWAkAAAAAVFgJAAAAAFRYCQAAAABUWAkAAAAAVFgJAAAAAFRYCQAAAABUWAkAAAAAVFgJAAAAAFRYCQAAAABUWAkAAAAAVFgJAAAAAFRYCQAAAABUWAkAAAAAVFgJAAAAAFRYCQAAAABUWAkAAAAAVFgJAAAAAFRYCQAAAABUWAkAAAAAVFgJAAAAAFRYCQAAAABUWAkAAAAAVFgJAAAAAFRYCQAAAABUWAkAAAAAVFgJAAAAAFRYCQAAAABUWAkAAAAAVFgJAAAAAFRYCQAAAABUWAkAAAAAVFgJAAAAAFRYCQAAAABUWAkAAAAAVFgJAAAAAFRYCQAAAABUWAkAAAAAVFgJAAAAAFRYCQAAAABUWAkAAAAAVFgJAAAAAFRYCQDwlveudyUPPZReGTYsWbAg9FJjY/7MmjUtSUakpq4uf+b005NLLw0AVEJLS9LVlf+2Zk1TkhGpqavLnznxxOTrXw+98MUvJpMnp9cWLky22iq8hhIA4C3v5ZeTrq70yrJlYSN0daXX/vSnAEBldHQka9akV156KfRSa2vS1ZVeW7069EIJAPCWd/rpyQMPpFf+5m/CRjjppGT16vy31atXp729PQ0NDWlubs7a/s//CQBUxkc/mqxcmf/W3d2dtra2NDTUp7m5JWs7+ujQS0cemSxalF5729tCL5QAAG95H/948vGPhzfBv/97/kxbW2cWL16SlpaWDBnSHACoqquvzp/p6FiVRYuWpKmpKcOGtYTX58ADkwMPDG+wEgAAAACosBIAAAAAqLASAAAAAKiwEgAAAACosBIAAAAAqLASAAAAAKiwEgAAAACosBIAAAAAqLASAAAAAKiwEgAAAACosBIAAAAAqLASAAAAAKiwEgAAAACosBIAAAAAqLASAAAAAKiwEgAAAACosBIAAAAAqLASAAAAAKiwEgAAAACosBIAAAAAqLASAAAAAKiwEgAAAACosBIAAAAAqLASAAAAAKiwEgAAAACosBIAAAAAqLASAAAAAKiwEgAAAACosBIAAAAAqLASAAAAAKiwEgAAAACosBIAAAAAqLASAAAAAKiwEgAAAACosBIAAAAAqLCSCrviiisyffr0fPCDH8wFF1yQ16urqyvf+MY3ct999+WJJ55IY2NjdtpppxxyyCH50Ic+lLq6umzI7373u1x77bW5//77s2TJkgwdOjSHHHJI/vmf/zlbb711Xst9992XG264IY899lhWrlyZESNG5H3ve1+OP/74NDU1BQAAAID1K6mohx9+OBMnTkxnZ2cWLlyY1+tXv/pV/umf/ilPPPFE1vbTn/40X/3qV3PppZfmxhtvzOjRo7Mu3/zmN3PKKadkxYoVWdvdd9+dSy+9NN/85jdz6KGHZn3OOuusXHrppVnbf/3Xf+W73/1uLr/88nzve9/L9ttvHwAAAADWraSCVqxYkWOPPTadnZ35SyxevDjvf//7s3DhwjQ0NGTcuHHZb7/90tnZmZ/97Ge57bbb8uCDD+boo4/OQw89lJaWlqztF7/4RU488cSsWrUqW265ZT7wgQ9kzJgx+eUvf5nvfve7WbJkSY4++ug8+OCD+du//du80sUXX5xLL700NaNGjcpRRx2VrbfeOnfffXfuvPPOzJkzJ+973/vy4IMPprm5OQAAAAC8WkkFnX766fntb3+bv9R5552XhQsXpr6+Pj/4wQ/y93//9+lxxhlnZMaMGTnhhBPy+OOP57LLLstnP/vZrO3MM8/MqlWrstlmm+UnP/lJdtttt9R8/OMfzz333JPDDjssy5Yty2c/+9ncdtttWdsf//jHTJ48OTW77rprfvnLX2bgwIGp+cQnPpHzzz8/kydPzpw5c3LNNddkwoQJAQAAAODVSirmW9/6Vq6//vpsscUWqaury5IlS/J6/fznP0/NEUcckb//+7/PKx1//PH5t3/7t/z617/OL37xi6ztvvvuy0MPPZSaSy+9NLvttlvWduihh+ass87K1KlTc/vtt2fBggXZdttt0+PrX/96Vq5cmbq6unz729/OwIEDs7bzzz8/P/jBD3L//ffnyiuvzIQJEwIAAADAq5VUyO9///t89KMfTc21116bSZMmZcmSJXm9nnzyydSMHDky6zN69Oj8+te/zhNPPJG1zZo1KzVNTU0ZN25c1uWYY47J1KlTs2bNmtx5550ZP358esyaNSs1BxxwQEaPHp11Ofroo3P//fdn3rx5mTt3bkaOHBkAAAAA/lxJRaxevTrHHXdc/vSnP+WUU07J0UcfnUmTJuUvMWzYsCxYsCCPP/541ufxxx9PzdZbb521/epXv0rNmDFj0r9//6zLXnvtlWHDhmXRokV58MEHM378+NR0d3fn4YcfTs2BBx6Y9TniiCMyadKk1Dz44IMZOXJkAAAAAPhzJRUxefLk/PKXv8yoUaPyla98JW+Ej3zkI/niF7+Yu+66K9/5znfygQ98IGubNm1a5syZk5oTTzwxa/vtb3+bmlGjRmV96urqsvPOO2fRokWZO3duejz77LNpb29PzahRo7I+o0ePTiklXV1dmTt3bgAAAAB4tZIKmD17dqZMmZLGxsbccsstGTBgQN4I5513Xn7zm9/k9ttvz9FHH50jjjgi++yzT1atWpWf/exn+elPf5qaU089NaeeemrW9oc//CE1w4cPz4a8/e1vT83ChQvT4w9/+EN6DB8+POtTX1+fYcOG5fnnn8/ChQvTW/fcc082Rnt7e/qa9vb2dHR0pJSS9vb2AEBf0d7eno6OjtTX16e9vT0A0Fd0dHSko6MjNe3t7YEqKdnEXnrppYwbNy6rV6/OlClTsueee+aNUkrJbbfdliOPPDKzZs3KrFmzMmvWrKxtwoQJufzyy7O21atXp6OjIzX9+/fPhrS0tKRmxYoV6bFixYr06N+/fzakpaUlNStWrEhvvec978nG+OMf/5i+ZuXKlXn55ZezcuXKdHV1BQD6ivb29ixdujRNTU3p7u4OAPQVnZ2dWbJkSfr16xeompJNbPz48XnuuecyduzYTJw4MW+k1tbWfPjDH85dd92Vmm222Sa77LJLOjs789hjj2Xx4sW54oorsmzZsnzta19LY2Njajo7O9OjlJINKaWkpr29PT06OzvTo5SSDSmlpKa9vT29deihh6Y37rnnntQ0Nzenr+nu7k5TU1Oam5vT3NwcAOhLmpqa0tzcnObm5gBAX1FfX5+mpqb069cvzc3NgSop2YSuvfbazJw5M1tssUVuvPHG1NXV5Y3S3d2dI444IrNnz86gQYMyffr0HHfccamrq0tNV1dXvvrVr+aTn/xkrr/++nR2dmbGjBmpaWlpSV1dXdasWZOOjo5sSHt7e2paWlrSo3///unR0dGRDWlvb09NS0tLeuvuu+9Ob9TV1aVm6NCh6WtWrFiR+vr6DBgwIFtuuWUAoK9oa2tLTUtLS4YMGRIA6Cs6OjrS3d2dpqamDB06NFAlJZvIggULcuaZZ6bmuuuuyzbbbJM30syZMzN79uzUXHXVVRk3blzWVkrJaaedltbW1pxzzjm5+eabc8YZZ2TvvfdOzWabbZZly5altbU1G9La2pqagQMHpsfAgQPTo7W1NRvS2tqamoEDBwYAAACAVyvZRBYsWJCVK1em5thjj826dHZ2puaGG27IjBkzUvOJT3wiF110UV7LPffck5qWlpYce+yxWZ9TTjkl55xzTmp++MMfZu+9907NDjvskEcffTQLFizIhjz//POp2WGHHdJjhx12SI8FCxZkfdra2rJ06dLU7LDDDgEAAADg1UoqoKOjIxuyevXqrF69OjWrVq1KbyxdujQ1I0aMSENDQ9Zn6NChGTBgQFasWJEXX3wxPXbaaac8+uijefTRR7M+q1evzmOPPZaanXbaKT0233zzDBs2LIsWLcqjjz6a9ZkzZ0567LTTTgEAAADg1Uo2kZ133jk/+clPsiHjxo3LCy+8kMMPPzwTJ05MzXbbbZfe2GWXXfLtb387zzzzTFatWpXGxsasy4IFC7JixYrU7LrrrukxduzYfOtb38rcuXPz3HPPZbvttssrPfjgg1m+fHlqDj300Kxt7NixufXWW/PjH/846/OjH/0oNY2NjXn3u98dAAAAAF6tZBMZNGhQDjnkkGxIS0tLaoYPH55DDjkkG2OvvfZKTWdnZ6ZPn54zzjgj63LZZZelx1577ZUeRx55ZE4//fR0dnbmqquuype+9KW80rRp01Kz1VZb5e/+7u+ytg9+8IO59dZbM2/evNx1111573vfm7V1dHTkuuuuS8173/veDBo0KAAAAAC8WkkftnTp0uy8886pGTlyZGbPnp0ehx12WA466KDMnj07Z599drq6ujJhwoQ0NjamZtmyZZkyZUouu+yy1HzoQx/KHnvskR5bb711xo8fn6uuuiqXXXZZDjzwwBxxxBHpce211+aWW25JzaRJk9LU1JS1HXXUUdltt90yZ86cfPSjH80999yTkSNHpqazszOnnnpq5s+fn7q6unzuc58LAAAAAOtW0od1d3dn0aJFqRk8eHDW1tDQkBkzZmSfffbJokWL8qlPfSqf//znM2rUqHR0dOTpp5/OqlWrUjNq1Khcc801eaWLLroo9957bx577LG8733vy4477pg99tgj9913X/7whz+k5tBDD80nPvGJvFJdXV1uvvnm7L///ri37d8AABu2SURBVHn22WczevTo7LnnnhkyZEhmz56d5cuXp+a8887LPvvsEwAAAADWreQtbMSIEXnyySczefLkTJs2LW1tbXnkkUfSo3///jn77LMzadKkNDc355UGDhyYn/70p/nYxz6WmTNnZv78+Zk/f35q+vXrl/Hjx+eSSy5JKSXrsttuu+UXv/hFTjrppDz88MN56KGH0mPzzTfPhRdemI997GMBAAAAYP1KKmzevHnZkK222ipr1qzJhgwePDiXXXZZLrzwwjz11FN54okn0tjYmJ122imjRo1Kv379siFbbrll/uM//iMLFizIAw88kKVLl2bYsGE58MADs8UWW+S17L777vnP//zPPProo3nsscfS1taWESNG5KCDDkpTU1MAAAAA2LCSvxL9+/fPmDFjMmbMmLwe2267bbbddtu8Xrvvvnt23333AAAAALBxSgAAAACgwkoAAAAAoMJKAAAAAKDCSgAAAACgwkoAAAAAoMJKAAAAAKDCSgAAAACgwkoAAAAAoMJKAAAAAKDCSgAAAACgwkoAAAAAoMJKAAAAAKDCSgAAAACgwkoAAAAAoMJKAAAAAKDCSmAT6+5O/t//y59pb2/IsmUtaW7ul4ED82f22isZPjwAwFvYc88lv/51eqW+Pvnf/zsAwFtYCWxiixcnRx6ZV2hO0px1mTgxufjiAABvYeefn/z7v6fX1qwJAPAWVgIAAAAAFVYCm9iQIcmDD+bPtLW15U9/+lNaWlrytre9LWsbOTIAwFvc1KnJqaemV+rrAwC8xZXAJlZfn+y9d/7MihXdWbKkMwMGNGbLLQMA/JXZaqtkq60CAPD/KwEAAACACisBAAAAgAorAQAAAIAKKwEAAACACisBAAAAgAorAQAAAIAKKwEAAACACisBAAAAgAorAQAAAIAKKwEAAACACisBAAAAgAorAQAAAIAKKwEAAACACisBAAAAgAorAQAAAIAKKwEAAACACisBAAAAgAorAQAAAIAKKwEAAACACisBAAAAgAorAQAAAIAKKwEAAACACisBAAAAgAorAQAAAIAKKwEAAACACisBAAAAgAorAQAAAIAKKwHesm69NfnmN9Mr/fsnt94aeunUU5OFC9Mr//APyb/+awCgEs48M3nmmfTKAQckkyaFXnjmmeTMM9NrF1yQ7L57AOilEuAt6//+3+SOO9IrdXXJrbeGXvrGN5L29vTKwoXJv/5rAKASrr8+aW1Nr/z2t8mkSaEXnnoqueOO9NpRRyW77x4AeqkEeMvaeuukuTm90q9f2AhbbJEsXZpeGT48AFAZQ4YknZ3pleHDQy9ttlnS3Jxe23zzALARSoC3rOnTk+nTw5vg+ecDAH3SvHnhTXDggUlbWwB4k5QAAAAAQIWVAAAAAECFlQAAAABAhZUAAAAAQIWVAAAAAECFlQAAAABAhZUAAAAAQIWVAAAAAECFlQAAAABAhZUAAAAAQIWVAAAAAECFlQAAAABAhZUAAAAAQIWVAAAAAECFlQAAAABAhZUAAAAAQIWVAAAAAECFlQAAAABAhZUAAAAAQIWVAAAAAECFlQAAAABAhZUAAAAAQIWVAAAAAECFlQAAAABAhZUAAAAAQIWVAAAAAECFlQAAAABAhZUAAAAAQIWVAAAAAECFlQAAAABAhZUAAAAAQIWVAAAAAECFlQAAAABAhZUAAAAAQIWVAAAAAECFlQAAAABAhZUAAAAAQIWVAAAAAECFlQAAAABAhZUAAAAAQIWVAAAAAECFlQAAAABAhZUAAAAAQIWVAAAAAECFlQAAAABAhZUAAAAAQIWVAAAAAECFlQAAAABAhZUAAAAAQIWVAAAAAECFlQAAAABAhZUAAAAAQIWVAAAAAECFlQAAAABAhZUAAAAAQIWVAAAAAECFlQAAAABAhZUAAAAAQIWVAAAAAECFlQAAAABAhZUAAAAAQIWVAAAAAECFlQAAAABAhZUAAAAAQIWVAAAAAECFlQAAAABAhZUAAAAAQIWVAAAAAECFlQAAAABAhZUAAAAAQIWVAAAAAECFlQAAAABAhZUAAAAAQIWVAAAAAECFlQAAAABAhZUAAAAAQIWVAAAAAECFlQAAAABAhZUAAAAAQIWVAAAAAECFlVTYqlWrsmTJkvTv3z+DBg0KAAAAAH99Sirs5JNPzk033ZSTTz451113XTbG7bffnhkzZmRjvOMd78jUqVNTc9xxx6WzszMb4zOf+Uz23HPP9PjOd76Tm2++Oa9lhx12yCWXXBIAAAAAXq2kom655ZbcdNNNeb2efPLJzJw5Mxtjzz33TI/bbrstHR0d2Rgf+chHsrYf/vCHmTlzZl7LHnvsEQAAAADWraSC5s+fn4997GP5S2y33XY54IAD0hsPP/xw2tra8s53vjM9DjjggHR0dOS1vPjii3nqqafS0NCQ7bffPmubO3duarbZZpv8zd/8TdZn5MiRAQAAAGDdSiqmq6srxx13XFpbW/OXGDduXMaNG5fXcvfdd+cf//EfM3z48Fx55ZXp8aMf/Sivpbu7O4ccckieeuqpTJ48ObvttlvWNm/evNR88pOfzCc/+ckAAAAAsPFKKua8887LAw88kF133TUvv/xyFixYkDfL0qVL85GPfCR1dXWZMWNGhgwZko0xderUzJ49O2PHjs1nPvOZrK2joyPPPfdcakaPHh0AAAAAXp+SCrn33nvzpS99Kc3Nzbn11ltz1FFH5c30L//yL3nhhRdyzjnnZOzYsdkY//mf/5nzzjsvQ4YMyYwZM1JfX5+1zZ8/P93d3akZPXp0AAAAAHh9Sipi6dKlOf7449Pd3Z2LL744u+66a95M3/jGNzJz5sz8r//1vzJ58uRsjI6Ojhx//PFZtWpVrr766gwfPjyvNHfu3NT069cvO+ywQzo6OjJ37tz84Q9/yMiRI7P99tsHAAAAgNdWUhEnn3xynn/++Rx++OE5/fTT82Zavnx5zj777NRcfPHFaWhoyMa44oor8uSTT2b//ffPMccck3WZN29eaoYPH54pU6bky1/+clpbW9Nj0KBBOeWUU3LBBRekf//+AQAAAGDdSirg6quvzu23356hQ4fm+uuvz5vt4osvzqJFi/IP//APec973pONsXTp0kyZMiU1X/7yl7M+c+fOTc3vf//7nHvuuakZMGBAGhoa0tramtbW1lx66aW5/fbbc/fdd2fHHXdMb02dOjUbo7W1NX3NypUrs3z58nR3d6exsTEA0Fe0tbVl+fLl6erqSlNTUwCgr+jo6Mjy5cvT2dmZlpaWQJWUbGKPPfZYzjrrrNTccMMNGTp0aN5ML7zwQv7t3/4t9fX1ufjii7OxLrjggrz88ss55phj8q53vSvrM3fu3PQYN25cPv3pT2fnnXdOXV1dnnnmmXz+85/PLbfckvnz5+df/uVfcs8996S3Pv3pT2djvPzyy+lrVq5cmdbW1qxatSr19fUBgL6ivb09ra2t6ejoSCklANBXdHZ2prW1Nf369Uu/fv0CVVKyCbW3t+fYY49NW1tbJkyYkMMOOyxvtvPOOy8rV67MuHHjsscee2RjzJ8/P9OnT09dXV2mTJmSDdl+++3zj//4j9l3330zefLkrG3HHXfMzTffnEGDBuWrX/1qfvSjH2XmzJk55phj0htnn312emPq1KmpGTRoUPqaUkq6urrSv3//DBo0KADQV/Tr1y+dnZ1pbm7OoEGDAgB9RUdHR9rb29OvX78MGjQoUCUlm9DEiRMzZ86c7Lbbbpk6dWrebH/84x9z4403puZjH/tYNtbll1+ezs7OHHrooRk1alQ25Otf/3pey4UXXpgbbrgh7e3tmT17do455pj0xpe+9KX0xtSpU1MzePDg9DWNjY3p6urKgAEDMnjw4ABAX9HW1pbOzs60tLRk8ODBAYC+oqOjIx0dHWlqasrgwYMDVVKyiTz++OOZNm1aaiZMmJBf//rXeaWOjo7ULF68OPfff39q3v72t2fEiBF5Pa699tp0dnZm9OjROeCAA7IxVq5cmRtvvDE1J598ct4IW2yxRUaNGpVHH300c+bMCQAAAACvVrKJtLa2psf48eOzIXfccUfuuOOO1Jx11ln58pe/nI3V3d2da665JjUnn3xyNtYtt9ySl19+OZtvvnk+8IEP5I2y/fbb59FHH01ra2sAAAAAeLWSvxKzZs3Ks88+m1JKTjzxxGysq6++OjXHH398mpqasiFPPPFEHnnkkdTX1+eDH/xg6urqsj7PPvtsanbZZZcAAAAA8Golm8h+++2XNWvWZEPe+c535umnn87JJ5+c6667Ln+JG2+8MTX7779/hg0blo3xm9/8Jg8//HBqPvCBD+S1LF68OMcee2xqtthiixx66KFZlxdffDFPPfVUanbbbbcAAAAA8Golfdjq1aszd+7c1DQ1NWWHHXbIunR1deXuu+9Ozbvf/e5srO9///upaWxszH777ZfXctBBB2XbbbfNggUL8pnPfCYHHnhgmpub80qf+tSn0t7ens022ywf+tCHAgAAAMCrlfRhL730UnbaaafUjB49Ok8++WTW5ec//3laW1tTc9BBB2Vjff/730/NXnvtlZaWlryWurq6nHfeeRk/fnweeuih/N3f/V0uuOCC7Lnnnlm9enV+85vf5MILL8w999yTmgsvvDDbbbddAAAAAHi1kr8Cd955Z2oaGhqy//77Z2O0trbml7/8ZWre/e53p7dOOeWUPPLII5k2bVruv//+vOc978kr1dfX58wzz8xpp50WAAAAANatpML23XffbLvtthk9enTWpbGxMQcffHBqRowYkfVZtmxZDj744Oy4447ZbLPNsjGefPLJ7L///qk5/PDDszGuvPLKHH744bnwwgvz0EMPpaOjIzVDhw7NmDFjct555+Vd73pXAAAAAFi/kgq7+eabsyFve9vbcu+99+a1TJ8+Pa/XPvvsk3vvvTev12GHHZbDDjssa9asycKFC1NKydChQwMAAABA75TwP6Kuri5vf/vbAwAAAMDGKQEAAACACisBAAAAgAorAQAAAIAKKwEAAACACisBAAAAgAorAQAAAIAKKwEAAACACisBAAAAgAorAQAAAIAKKwEAAACACisBAAAAgAorAQAAAIAKKwEAAACACisBAAAAgAorAQAAAIAKKwEAAACACisBAAAAgAorAQAAAIAKKwEAAACACisBAAAAgAorAQAAAIAKKwEAAACACisBAAAAgAorAQAAAIAKKwEAAACACisBAAAAgAorAQAAAIAKKwEAAACACisBAAAAgAorAYCK6OpKlixJrw0ZktTXBwB4C1u+PFmxIr3S2JhssUWAt6ASAKiIm25K/vmf02t33pm8970BAN7Cxo5NfvWr9Epzc9LWFuAtqAQAAAAAKqwEACri8MOTa65Jr+23XwCAt7grrkjmzEmvbL55gLeoEgCoiGHDkvHjAwDw3/bbL9lvvwB/5UoAAAAAoMJKAAAAAKDCSgAAAACgwkoAAAAAoMJKAAAAAKDCSgAAAACgwkoAAAAAoMJKAAAAAKDCSgAAAACgwkoAAAAAoMJKAAAAAKDCSgAAAACgwkoAAAAAoMJKAAAAAKDCSgAAAACgwkoAAAAAoMJKAAAAAKDCSgAAAACgwkoAAAAAoMJKAAAAAKDCSgAAAACgwkoAAAAAoMJKAAAAAKDCSgAAAACgwkoAAAAAoMJKAAAAAKDCSgAAAACgwkoAAAAAoMJKAAAAAKDCSgAAAACgwkoAAAAAoMJKAAAAAKDCSnjLq6urCwAAAEBfVQIAAAAAFVbCW9aaNWvSV91000058cQTc8IJJ+TGG28MAPQVd9xxR97//vfnyCOPzHe/+90AQF/x05/+NIccckgOPvjg3HvvvYEqKQEAAACACisBAAAAgAorAQAAAIAKKwEAAACACisBAAAAgAorAQAAAIAKKwEAAACACisBAAAAgAorAQAAAIAKK4EKOuGEE3LCCScEAPqaI488MmvWrAkA9DUHH3xw1qxZE6iiEgAAAACosBIAAAAAqLASAAAAAKiwEgAAAACosBIAAAAAqLASAAAAAKiwEgAAAACosBIAAAAAqLASAAAAAKiwEgAAAACosBKomNbW1jzyyCNZsmRJhg4dmjFjxqSlpSUAAAD85e69994sWbIkxxxzTHqrtbU1jzzySJYsWZKhQ4dmzJgxaWlpCfxPKYGKWLlyZSZOnJjrr78+bW1t6TFo0KCcdtppOf/889PY2BgAqJLu7u5su+226ezszGu56aabcthhhwUANpWOjo4cddRR6erqyjHHHJPXsnLlykycODHXX3992tra0mPQoEE57bTTcv7556exsTHwZiuBCujo6MjYsWPzwAMPpMeQIUOyePHitLa2ZsqUKZkzZ05uv/321NfXBwCq4tlnn83ChQvTGx0dHQGATenWW2/Nn/70pwwYMCCvpaOjI2PHjs0DDzyQHkOGDMnixYvT2tqaKVOmZM6cObn99ttTX18feDOVQAWce+65eeCBB1Jz6qmn5nOf+1y22WabzJs3L5MmTcp3vvOdfO9738u0adMyYcKEAEBVzJ07Nz0+/elPp6GhIeszevToAMCm8oMf/CATJkxIb5177rl54IEHUnPqqafmc5/7XLbZZpvMmzcvkyZNyne+851873vfy7Rp0zJhwoTAm6kENrElS5Zk2rRpqTn88MNz1VVXpb6+PjXvfOc7c/PNN+f/aw+OQqusGwAO/3bO380DJxjmGmZjOKKNnGc4L8dgk4Zy5ggiiIhddGNOvBhEROCCIBxLvBCXId0Vi5E3DiyrLRcp5yZlUijDuTMpz9jIbDJmh8kZH+/FQKTW913s2yv8nqe1tZWrV68yMDBAT08PmzZtQpKkOLh16xaR6upq+vv7kSQpTj755BMmJia4dOkSk5OT/Lf++OMPBgcHiWSzWT7++GMSiQSR559/nqGhIVpbW7l69SoDAwP09PSwadMmpPUSkDbY+fPnefDgAZH+/n4SiQSPSqVS9Pb20t3dzezsLJcvX6a9vR1JkuJgamqKyAsvvIAkSXHzwQcfMD8/z//q/PnzPHjwgEh/fz+JRIJHpVIpent76e7uZnZ2lsuXL9Pe3o60XgLSBhsdHSVSU1NDJpPh72SzWZLJJKVSibGxMdrb25EkKQ5u3bpFpL6+HkmS4ubkyZP89ddfrDp37hwjIyP8m9HRUSI1NTVkMhn+TjabJZlMUiqVGBsbo729HWm9BKQNduPGDSK7d+/mn2zZsoVMJsPExASTk5NIkhQXU1NTRBoaGvjzzz/55ptvuHnzJqlUikwmQ3NzM8888wySJG2E1157jUfdvn2bkZER/s2NGzeI7N69m3+yZcsWMpkMExMTTE5OIq2ngLTB8vk8kdraWtZSW1vLxMQE09PTSJIUBysrK+TzeSLj4+N8+OGHLCws8KiKigr6+vp49913CSEgSdKTIJ/PE6mtrWUttbW1TExMMD09jbSeAtIGW1xcJFJZWclaKisridy/fx9JkuLg119/ZXl5mchXX31FMplk165dvPjii8zMzPDzzz9TLBY5evQoP/zwA9999x1lZWVIkhR3i4uLRCorK1lLZWUlkfv37yOtp4C0gYrFIisrK0Q2b97MWlKpFJGlpSUkSYqDqakpVrW0tDA8PMxzzz3Hqt9++40333yT77//nrGxMT799FMOHjyIJElxViwWWVlZIbJ582bWkkqliCwtLSGtp4C0gUIIrCqVSqzl4cOHRMrKypAkKQ62bdtGf38/yWSSnp4e0uk0j6qpqeHcuXM0NDRQKBQ4evQoBw8eRJKkOAshsKpUKrGWhw8fEikrK0NaTwFpA4UQKC8vZ3l5mWKxyFqKxSKRdDqNJElx0NjYSGNjI2tJp9P09vbyzjvv8Pvvv1MoFNi+fTuSJMVVCIHy8nKWl5cpFouspVgsEkmn00jrKSBtsKqqKgqFAvPz86xlbm6OyNatW5Ek6Umya9cuVv3yyy9s374dSZLirKqqikKhwPz8PGuZm5sjsnXrVqT1FJA2WH19PYVCgXw+z1pmZmaINDQ0IEnSk+Tpp59mVUVFBZIkxV19fT2FQoF8Ps9aZmZmiDQ0NCCtp4C0wfbs2cPFixe5cuUKpVKJZDLJ4+7evcv09DSR5uZmJEmKg7fffpulpSVeeuklXn31Vf7JzZs3WdXY2IgkSXG3Z88eLl68yJUrVyiVSiSTSR539+5dpqeniTQ3NyOtp4C0wTo7Ozl+/DiLi4tcuHCBAwcO8LizZ8+yqqurC0mS4mB2dpbh4WFGR0d55ZVXSCQS/J2RkREi27Zto6qqCkmS4q6zs5Pjx4+zuLjIhQsXOHDgAI87e/Ysq7q6upDWU0DaYK2trezcuZPr16/T19dHR0cHFRUVrFpYWODYsWNE9u/fT11dHZIkxcHrr7/O8PAw+Xye9957j4GBAR73xRdf8OWXXxJ5//33kSTpSdDa2srOnTu5fv06fX19dHR0UFFRwaqFhQWOHTtGZP/+/dTV1SGtp4C0wRKJBCdOnCCbzXLt2jX27t3LoUOHaGpqIpfLMTg4yJ07d0ilUgwMDCBJUlx0dXXx8ssvMzIywkcffcRPP/3EG2+8wbPPPsvt27f59ttvGRkZIdLS0sJbb72FJElPgkQiwYkTJ8hms1y7do29e/dy6NAhmpqayOVyDA4OcufOHVKpFAMDA0jrLSDFwL59+zh16hS9vb3kcjlyuRyPSqfTDA0NkclkkCQpLsrKyvj888/p7Ozk0qVLjI+PMz4+zuO6u7s5efIkZWVlSJL0pNi3bx+nTp2it7eXXC5HLpfjUel0mqGhITKZDNJ6C0gxcfjwYVpaWjh9+jS5XI579+5RXV1Ne3s7R44cYceOHUiSFDdPPfUUP/74I19//TWfffYZ+Xyeubk56urqyGQydHV10dHRgSRJcdDW1kakvLyc/8bhw4dpaWnh9OnT5HI57t27R3V1Ne3t7Rw5coQdO3Yg/T8EpBhpamrizJkzSJL0pMlms2SzWSRJirO2tjba2tr4XzQ1NXHmzBmkjRSQJEmSJEmSYiwgSZIkSZIkxVhAkiRJkiRJirGAJEmSJEmSFGMBSZIkSZIkKcYCkiRJkiRJUowFJEmSJEmSpBgLSJIkSZIkSTEWkCRJkiRJkmIsIEmSJEmSJMVYQJIkSZIkSYqxgCRJkiRJkhRjAUmSJEmSJCnGApIkSZIkSVKMBSRJkiRJkqQYC0iSJEmSJEkxFpAkSZIkSZJiLCBJkiRJkiTFWECSJEmSJEmKsYAkSZIkSZIUYwFJkiRJkiQpxgKSJEmSJElSjAUkSZIkSZKkGAtIkiRJkiRJMRaQJEmSJEmSYiwgSZIkSZIkxVhAkiRJkiRJirGAJEmSJEmSFGMBSZIkSZIkKcYCkiRJkiRJUowFJEmSJEmSpBgLSJIkSZIkSTEWkCRJkiRJkmIsIEmSJEmSJMXYfwDve3Zn54CjgQAAAABJRU5ErkJggg==\"/>"
      ]
     },
     "metadata": {},
     "output_type": "display_data"
    },
    {
     "data": {
      "text/plain": [
       "CairoMakie.Screen{IMAGE}\n"
      ]
     },
     "metadata": {},
     "output_type": "display_data"
    }
   ],
   "source": [
    "# Plot energy spectrum\n",
    "using CairoMakie\n",
    "CairoMakie.activate!()\n",
    "\n",
    "begin\n",
    "    fig = Figure();\n",
    "    ax = Axis(fig[1, 1])    \n",
    "    # Plot energy levels for each momentum block\n",
    "    for i in 1:length(blocks)\n",
    "        for e in energies[i]\n",
    "            scatter!(ax, Gk[2]*block_k1[i]+block_k2[i], e, color = :blue, marker=:hline)\n",
    "        end\n",
    "    end\n",
    "    fig\n",
    "end\n",
    "display(fig)"
   ]
  },
  {
   "cell_type": "code",
   "execution_count": 8,
   "metadata": {},
   "outputs": [
    {
     "data": {
      "text/plain": [
       "6-element Vector{Float64}:\n",
       " 4.767925049245032\n",
       " 4.767925049245049\n",
       " 4.830820342284228\n",
       " 4.830820342284233\n",
       " 4.843752888025071\n",
       " 4.843752888025078"
      ]
     },
     "metadata": {},
     "output_type": "display_data"
    }
   ],
   "source": [
    "# check energies explicitly to see if there's degeneracy in the same momentum sector.\n",
    "energies[4]"
   ]
  },
  {
   "cell_type": "markdown",
   "metadata": {},
   "source": [
    "In the specific case when interlayer tunneling t=0, particle numbers of the two layers are conserved.\n",
    "\n",
    "Therefore, we can do larger system."
   ]
  },
  {
   "cell_type": "code",
   "execution_count": 9,
   "metadata": {},
   "outputs": [
    {
     "data": {
      "text/plain": [
       "4"
      ]
     },
     "metadata": {},
     "output_type": "display_data"
    }
   ],
   "source": [
    "# Import the momentum-conserved exact diagonalization package\n",
    "using MomentumED\n",
    "\n",
    "# Number of layers (components) for bilayer system\n",
    "Nc_conserve = 2\n",
    "\n",
    "# Define k-mesh for bilayer system (2×3 mesh, Nk=6) in triangular lattice\n",
    "# Using a smaller mesh for computational efficiency\n",
    "k_list = [0 1 2 3 0 1 2 3 0 1 2 3 0 1 2 3;\n",
    "          0 0 0 0 1 1 1 1 2 2 2 2 3 3 3 3]\n",
    "Nk = 16\n",
    "Gk = (4, 4)  # Grid dimensions\n",
    "\n",
    "# Total number of electrons (3 electrons across both layers)\n",
    "Ne1 = 4\n",
    "Ne2 = 4"
   ]
  },
  {
   "cell_type": "code",
   "execution_count": 10,
   "metadata": {},
   "outputs": [],
   "source": [
    "# Physical parameters\n",
    "t = 0.0                    # must be zero for layer-conserved case\n",
    "ΔE = 0 * W0                # Energy difference between the two layers\n",
    "\n",
    "\n",
    "# Set up one-body Hamiltonian matrix for inter-layer tunneling\n",
    "# H_onebody[c1, c2, cc, k] : no hopping from component c2 to c1\n",
    "# For bilayer system: Nc_hopping=1, Nc_conserve=2, Nk=6\n",
    "H_onebody_bilayer = zeros(ComplexF64, 1, 1, Nc_conserve, Nk)\n",
    "# Add energy difference terms: ΔE = 0.5 * W0 between different layers\n",
    "# No tunneling\n",
    "for k_idx in 1:Nk\n",
    "    H_onebody_bilayer[1, 1, 1, k_idx] = 0.5ΔE\n",
    "    H_onebody_bilayer[1, 1, 2, k_idx] = -0.5ΔE\n",
    "end\n",
    "\n",
    "# Create parameter structure for bilayer system\n",
    "# Note: H_onebody matrix handles tunneling, V_int handles interactions\n",
    "para_bilayer = EDPara(\n",
    "    k_list=k_list, \n",
    "    Gk=Gk, \n",
    "    Nc_hopping=1,\n",
    "    Nc_conserve=Nc_conserve,\n",
    "    H_onebody=H_onebody_bilayer,\n",
    "    V_int=V_int_bilayer\n",
    ");"
   ]
  },
  {
   "cell_type": "code",
   "execution_count": 11,
   "metadata": {},
   "outputs": [
    {
     "data": {
      "text/plain": [
       "16-element Vector{Int64}:\n",
       " 207184\n",
       " 206976\n",
       " 207168\n",
       " 206976\n",
       " 206976\n",
       " 206976\n",
       " 206976\n",
       " 206976\n",
       " 207168\n",
       " 206976\n",
       " 207168\n",
       " 206976\n",
       " 206976\n",
       " 206976\n",
       " 206976\n",
       " 206976"
      ]
     },
     "metadata": {},
     "output_type": "display_data"
    }
   ],
   "source": [
    "# Create momentum blocks for bilayer system\n",
    "blocks, block_k1, block_k2, k0number = \n",
    "    ED_momentum_block_division(para_bilayer, ED_mbslist(para_bilayer, (Ne1,Ne2)));\n",
    "length.(blocks)"
   ]
  },
  {
   "cell_type": "code",
   "execution_count": 12,
   "metadata": {},
   "outputs": [],
   "source": [
    "# Generate scattering lists for efficient Hamiltonian construction\n",
    "scat_list1 = ED_sortedScatteringList_onebody(para_bilayer);\n",
    "scat_list2 = ED_sortedScatteringList_twobody(para_bilayer);"
   ]
  },
  {
   "cell_type": "code",
   "execution_count": 13,
   "metadata": {},
   "outputs": [
    {
     "name": "stdout",
     "output_type": "stream",
     "text": [
      "Processing block #1 with size 207184, momentum 0, 0\n",
      " 28.697721 seconds (1.48 G allocations: 27.103 GiB, 15.36% gc time, 3.99% compilation time)\n",
      " 86.409513 seconds (120.97 k allocations: 9.350 GiB, 2.74% gc time, 0.12% compilation time: 73% of which was recompilation)\n",
      "Processing block #2 with size 206976, momentum 0, 1\n"
     ]
    },
    {
     "name": "stderr",
     "output_type": "stream",
     "text": [
      "┌ Warning: Lanczos eigsolve stopped without convergence after 100 iterations:\n",
      "│ * 8 eigenvalues converged\n",
      "│ * norm of residuals = (3.13e-25, 0.00e+00, 0.00e+00, 0.00e+00, 0.00e+00, 0.00e+00, 0.00e+00, 0.00e+00, 9.01e-09, 3.58e-08, 3.85e-08, 2.39e-08)\n",
      "│ * number of operations = 1179\n",
      "└ @ KrylovKit C:\\Users\\zoubo\\.julia\\packages\\KrylovKit\\MlUlm\\src\\eigsolve\\lanczos.jl:142\n"
     ]
    },
    {
     "name": "stdout",
     "output_type": "stream",
     "text": [
      " 29.495404 seconds (1.48 G allocations: 27.066 GiB, 18.04% gc time)\n",
      " 64.154392 seconds (20.42 k allocations: 7.787 GiB, 2.53% gc time)\n",
      "Processing block #3 with size 207168, momentum 0, 2\n",
      " 27.544302 seconds (1.48 G allocations: 27.093 GiB, 15.58% gc time)\n",
      " 72.057371 seconds (22.58 k allocations: 8.763 GiB, 2.45% gc time)\n",
      "Processing block #4 with size 206976, momentum 0, 3\n",
      " 32.058695 seconds (1.48 G allocations: 27.066 GiB, 16.55% gc time)\n",
      "140.888315 seconds (19.79 k allocations: 7.651 GiB, 1.36% gc time)\n",
      "Processing block #5 with size 206976, momentum 1, 0\n",
      " 61.939740 seconds (1.48 G allocations: 27.066 GiB, 14.89% gc time)\n",
      "126.460545 seconds (20.90 k allocations: 7.972 GiB, 1.80% gc time)\n",
      "Processing block #6 with size 206976, momentum 1, 1\n",
      " 80.119765 seconds (1.48 G allocations: 27.066 GiB, 9.46% gc time)\n",
      "128.256797 seconds (21.34 k allocations: 8.157 GiB, 1.53% gc time)\n",
      "Processing block #7 with size 206976, momentum 1, 2\n",
      " 77.682018 seconds (1.48 G allocations: 27.066 GiB, 9.16% gc time)\n",
      "128.224708 seconds (18.84 k allocations: 7.287 GiB, 1.43% gc time)\n",
      "Processing block #8 with size 206976, momentum 1, 3\n",
      " 58.213209 seconds (1.48 G allocations: 27.066 GiB, 14.59% gc time)\n",
      "118.242103 seconds (17.90 k allocations: 6.917 GiB, 1.46% gc time)\n",
      "Processing block #9 with size 207168, momentum 2, 0\n",
      " 61.343658 seconds (1.48 G allocations: 27.093 GiB, 13.75% gc time)\n",
      " 77.061351 seconds (21.63 k allocations: 8.393 GiB, 2.44% gc time)\n",
      "Processing block #10 with size 206976, momentum 2, 1\n",
      " 30.896866 seconds (1.48 G allocations: 27.066 GiB, 19.91% gc time)\n",
      " 60.368638 seconds (18.38 k allocations: 7.102 GiB, 2.50% gc time)\n",
      "Processing block #11 with size 207168, momentum 2, 2\n",
      " 27.820207 seconds (1.48 G allocations: 27.093 GiB, 15.38% gc time)\n",
      " 73.022861 seconds (22.57 k allocations: 8.763 GiB, 2.51% gc time)\n",
      "Processing block #12 with size 206976, momentum 2, 3\n",
      " 31.335177 seconds (1.48 G allocations: 27.066 GiB, 19.79% gc time)\n",
      " 58.736068 seconds (16.73 k allocations: 6.454 GiB, 2.43% gc time)\n",
      "Processing block #13 with size 206976, momentum 3, 0\n",
      " 32.958564 seconds (1.48 G allocations: 27.066 GiB, 19.70% gc time)\n",
      " 76.340835 seconds (22.08 k allocations: 8.434 GiB, 2.51% gc time)\n",
      "Processing block #14 with size 206976, momentum 3, 1\n",
      " 31.627357 seconds (1.48 G allocations: 27.066 GiB, 19.60% gc time)\n",
      " 60.501093 seconds (16.27 k allocations: 6.269 GiB, 2.38% gc time)\n",
      "Processing block #15 with size 206976, momentum 3, 2\n",
      " 36.303765 seconds (1.48 G allocations: 27.066 GiB, 17.78% gc time)\n",
      " 61.773728 seconds (17.90 k allocations: 6.917 GiB, 2.37% gc time)\n",
      "Processing block #16 with size 206976, momentum 3, 3\n",
      " 30.999076 seconds (1.48 G allocations: 27.066 GiB, 20.96% gc time)\n",
      " 71.848516 seconds (20.41 k allocations: 7.787 GiB, 2.41% gc time)\n"
     ]
    }
   ],
   "source": [
    "# Time cost is significantly higher with this larger system size\n",
    "# use tol=W0*1e-6 to speed up convergence\n",
    "energies = Vector{Vector{Float64}}(undef, length(blocks))\n",
    "Neigen = 6\n",
    "for i in eachindex(blocks)\n",
    "    println(\"Processing block #$i with size $(length(blocks[i])), momentum $(block_k1[i]), $(block_k2[i])\")\n",
    "    if i == k0number\n",
    "        energies[i] = EDsolve(blocks[i], scat_list1, scat_list2, 2Neigen; showtime=true, converge_warning = false, tol=W0*1e-6)[1]\n",
    "    else\n",
    "        energies[i] = EDsolve(blocks[i], scat_list1, scat_list2, Neigen; showtime=true, converge_warning = false, tol=W0*1e-6)[1]\n",
    "    end\n",
    "end"
   ]
  },
  {
   "cell_type": "code",
   "execution_count": 14,
   "metadata": {},
   "outputs": [],
   "source": [
    "# The package for plotting is not included in this package. Use the following to add it:\n",
    "# using Pkg; Pkg.add(\"CairoMakie\")"
   ]
  },
  {
   "cell_type": "code",
   "execution_count": 15,
   "metadata": {},
   "outputs": [
    {
     "data": {
      "image/png": "[encoded data removed]",
      "text/html": [
       "<img width=600 height=450 style='object-fit: contain; height: auto;' src=\"data:image/png;base64, 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\"/>"
      ]
     },
     "metadata": {},
     "output_type": "display_data"
    },
    {
     "data": {
      "text/plain": [
       "CairoMakie.Screen{IMAGE}\n"
      ]
     },
     "metadata": {},
     "output_type": "display_data"
    }
   ],
   "source": [
    "# Plot energy spectrum\n",
    "using CairoMakie\n",
    "CairoMakie.activate!()\n",
    "\n",
    "begin\n",
    "    fig = Figure();\n",
    "    ax = Axis(fig[1, 1])    \n",
    "    # Plot energy levels for each momentum block\n",
    "    for i in 1:length(blocks)\n",
    "        for e in energies[i]\n",
    "            scatter!(ax, Gk[2]*block_k1[i]+block_k2[i], e, color = :blue, marker=:hline)\n",
    "        end\n",
    "    end\n",
    "    fig\n",
    "end\n",
    "display(fig)"
   ]
  },
  {
   "cell_type": "code",
   "execution_count": 16,
   "metadata": {},
   "outputs": [
    {
     "data": {
      "text/plain": [
       "12-element Vector{Float64}:\n",
       " 7.389980240167975\n",
       " 7.3899802787307225\n",
       " 7.389980309136654\n",
       " 7.389980360558108\n",
       " 7.389980392617043\n",
       " 7.389980448097751\n",
       " 7.39008101514381\n",
       " 7.390081015161232\n",
       " 7.39429261624351\n",
       " 7.394292632796416\n",
       " 7.394292650860737\n",
       " 7.39429268392222"
      ]
     },
     "metadata": {},
     "output_type": "display_data"
    }
   ],
   "source": [
    "# check energies explicitly to see if there's degeneracy in the same momentum sector.\n",
    "energies[1]"
   ]
  },
  {
   "cell_type": "code",
   "execution_count": null,
   "metadata": {},
   "outputs": [],
   "source": []
  }
 ],
 "metadata": {
  "kernelspec": {
   "display_name": "Julia 1.11.6",
   "language": "julia",
   "name": "julia-1.11"
  },
  "language_info": {
   "file_extension": ".jl",
   "mimetype": "application/julia",
   "name": "julia",
   "version": "1.11.6"
  }
 },
 "nbformat": 4,
 "nbformat_minor": 4
}
